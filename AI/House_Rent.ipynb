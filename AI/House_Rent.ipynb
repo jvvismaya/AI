{
 "cells": [
  {
   "cell_type": "code",
   "execution_count": 1,
   "id": "65de9528-2636-4bb3-bebd-357b426bfe9d",
   "metadata": {},
   "outputs": [],
   "source": [
    "#Importing the Libraries\n",
    "import pandas as pd\n",
    "import numpy as np\n",
    "import seaborn as sns\n",
    "import matplotlib.pyplot as plt "
   ]
  },
  {
   "cell_type": "code",
   "execution_count": 2,
   "id": "7122f792-991e-41b3-b31f-1fa58f4cf46c",
   "metadata": {},
   "outputs": [
    {
     "name": "stdout",
     "output_type": "stream",
     "text": [
      "       Posted On  BHK   Rent  Size            Floor    Area Type  \\\n",
      "0     2022-05-18    2  10000  1100  Ground out of 2   Super Area   \n",
      "1     2022-05-13    2  20000   800       1 out of 3   Super Area   \n",
      "2     2022-05-16    2  17000  1000       1 out of 3   Super Area   \n",
      "3     2022-07-04    2  10000   800       1 out of 2   Super Area   \n",
      "4     2022-05-09    2   7500   850       1 out of 2  Carpet Area   \n",
      "...          ...  ...    ...   ...              ...          ...   \n",
      "4741  2022-05-18    2  15000  1000       3 out of 5  Carpet Area   \n",
      "4742  2022-05-15    3  29000  2000       1 out of 4   Super Area   \n",
      "4743  2022-07-10    3  35000  1750       3 out of 5  Carpet Area   \n",
      "4744  2022-07-06    3  45000  1500     23 out of 34  Carpet Area   \n",
      "4745  2022-05-04    2  15000  1000       4 out of 5  Carpet Area   \n",
      "\n",
      "                 Area Locality       City Furnishing Status  Tenant Preferred  \\\n",
      "0                       Bandel    Kolkata       Unfurnished  Bachelors/Family   \n",
      "1     Phool Bagan, Kankurgachi    Kolkata    Semi-Furnished  Bachelors/Family   \n",
      "2      Salt Lake City Sector 2    Kolkata    Semi-Furnished  Bachelors/Family   \n",
      "3                  Dumdum Park    Kolkata       Unfurnished  Bachelors/Family   \n",
      "4                South Dum Dum    Kolkata       Unfurnished         Bachelors   \n",
      "...                        ...        ...               ...               ...   \n",
      "4741              Bandam Kommu  Hyderabad    Semi-Furnished  Bachelors/Family   \n",
      "4742      Manikonda, Hyderabad  Hyderabad    Semi-Furnished  Bachelors/Family   \n",
      "4743      Himayath Nagar, NH 7  Hyderabad    Semi-Furnished  Bachelors/Family   \n",
      "4744                Gachibowli  Hyderabad    Semi-Furnished            Family   \n",
      "4745           Suchitra Circle  Hyderabad       Unfurnished         Bachelors   \n",
      "\n",
      "      Bathroom Point of Contact  \n",
      "0            2    Contact Owner  \n",
      "1            1    Contact Owner  \n",
      "2            1    Contact Owner  \n",
      "3            1    Contact Owner  \n",
      "4            1    Contact Owner  \n",
      "...        ...              ...  \n",
      "4741         2    Contact Owner  \n",
      "4742         3    Contact Owner  \n",
      "4743         3    Contact Agent  \n",
      "4744         2    Contact Agent  \n",
      "4745         2    Contact Owner  \n",
      "\n",
      "[4746 rows x 12 columns]\n"
     ]
    }
   ],
   "source": [
    "#loading the dataset\n",
    "df=pd.read_csv('House_rent_Dataset.csv')\n",
    "print(df)"
   ]
  },
  {
   "cell_type": "code",
   "execution_count": 3,
   "id": "95e8863a-4ead-4a35-a5a5-b6ef980c6728",
   "metadata": {},
   "outputs": [
    {
     "data": {
      "text/html": [
       "<div>\n",
       "<style scoped>\n",
       "    .dataframe tbody tr th:only-of-type {\n",
       "        vertical-align: middle;\n",
       "    }\n",
       "\n",
       "    .dataframe tbody tr th {\n",
       "        vertical-align: top;\n",
       "    }\n",
       "\n",
       "    .dataframe thead th {\n",
       "        text-align: right;\n",
       "    }\n",
       "</style>\n",
       "<table border=\"1\" class=\"dataframe\">\n",
       "  <thead>\n",
       "    <tr style=\"text-align: right;\">\n",
       "      <th></th>\n",
       "      <th>Posted On</th>\n",
       "      <th>BHK</th>\n",
       "      <th>Rent</th>\n",
       "      <th>Size</th>\n",
       "      <th>Floor</th>\n",
       "      <th>Area Type</th>\n",
       "      <th>Area Locality</th>\n",
       "      <th>City</th>\n",
       "      <th>Furnishing Status</th>\n",
       "      <th>Tenant Preferred</th>\n",
       "      <th>Bathroom</th>\n",
       "      <th>Point of Contact</th>\n",
       "    </tr>\n",
       "  </thead>\n",
       "  <tbody>\n",
       "    <tr>\n",
       "      <th>0</th>\n",
       "      <td>False</td>\n",
       "      <td>False</td>\n",
       "      <td>False</td>\n",
       "      <td>False</td>\n",
       "      <td>False</td>\n",
       "      <td>False</td>\n",
       "      <td>False</td>\n",
       "      <td>False</td>\n",
       "      <td>False</td>\n",
       "      <td>False</td>\n",
       "      <td>False</td>\n",
       "      <td>False</td>\n",
       "    </tr>\n",
       "    <tr>\n",
       "      <th>1</th>\n",
       "      <td>False</td>\n",
       "      <td>False</td>\n",
       "      <td>False</td>\n",
       "      <td>False</td>\n",
       "      <td>False</td>\n",
       "      <td>False</td>\n",
       "      <td>False</td>\n",
       "      <td>False</td>\n",
       "      <td>False</td>\n",
       "      <td>False</td>\n",
       "      <td>False</td>\n",
       "      <td>False</td>\n",
       "    </tr>\n",
       "    <tr>\n",
       "      <th>2</th>\n",
       "      <td>False</td>\n",
       "      <td>False</td>\n",
       "      <td>False</td>\n",
       "      <td>False</td>\n",
       "      <td>False</td>\n",
       "      <td>False</td>\n",
       "      <td>False</td>\n",
       "      <td>False</td>\n",
       "      <td>False</td>\n",
       "      <td>False</td>\n",
       "      <td>False</td>\n",
       "      <td>False</td>\n",
       "    </tr>\n",
       "    <tr>\n",
       "      <th>3</th>\n",
       "      <td>False</td>\n",
       "      <td>False</td>\n",
       "      <td>False</td>\n",
       "      <td>False</td>\n",
       "      <td>False</td>\n",
       "      <td>False</td>\n",
       "      <td>False</td>\n",
       "      <td>False</td>\n",
       "      <td>False</td>\n",
       "      <td>False</td>\n",
       "      <td>False</td>\n",
       "      <td>False</td>\n",
       "    </tr>\n",
       "    <tr>\n",
       "      <th>4</th>\n",
       "      <td>False</td>\n",
       "      <td>False</td>\n",
       "      <td>False</td>\n",
       "      <td>False</td>\n",
       "      <td>False</td>\n",
       "      <td>False</td>\n",
       "      <td>False</td>\n",
       "      <td>False</td>\n",
       "      <td>False</td>\n",
       "      <td>False</td>\n",
       "      <td>False</td>\n",
       "      <td>False</td>\n",
       "    </tr>\n",
       "    <tr>\n",
       "      <th>...</th>\n",
       "      <td>...</td>\n",
       "      <td>...</td>\n",
       "      <td>...</td>\n",
       "      <td>...</td>\n",
       "      <td>...</td>\n",
       "      <td>...</td>\n",
       "      <td>...</td>\n",
       "      <td>...</td>\n",
       "      <td>...</td>\n",
       "      <td>...</td>\n",
       "      <td>...</td>\n",
       "      <td>...</td>\n",
       "    </tr>\n",
       "    <tr>\n",
       "      <th>4741</th>\n",
       "      <td>False</td>\n",
       "      <td>False</td>\n",
       "      <td>False</td>\n",
       "      <td>False</td>\n",
       "      <td>False</td>\n",
       "      <td>False</td>\n",
       "      <td>False</td>\n",
       "      <td>False</td>\n",
       "      <td>False</td>\n",
       "      <td>False</td>\n",
       "      <td>False</td>\n",
       "      <td>False</td>\n",
       "    </tr>\n",
       "    <tr>\n",
       "      <th>4742</th>\n",
       "      <td>False</td>\n",
       "      <td>False</td>\n",
       "      <td>False</td>\n",
       "      <td>False</td>\n",
       "      <td>False</td>\n",
       "      <td>False</td>\n",
       "      <td>False</td>\n",
       "      <td>False</td>\n",
       "      <td>False</td>\n",
       "      <td>False</td>\n",
       "      <td>False</td>\n",
       "      <td>False</td>\n",
       "    </tr>\n",
       "    <tr>\n",
       "      <th>4743</th>\n",
       "      <td>False</td>\n",
       "      <td>False</td>\n",
       "      <td>False</td>\n",
       "      <td>False</td>\n",
       "      <td>False</td>\n",
       "      <td>False</td>\n",
       "      <td>False</td>\n",
       "      <td>False</td>\n",
       "      <td>False</td>\n",
       "      <td>False</td>\n",
       "      <td>False</td>\n",
       "      <td>False</td>\n",
       "    </tr>\n",
       "    <tr>\n",
       "      <th>4744</th>\n",
       "      <td>False</td>\n",
       "      <td>False</td>\n",
       "      <td>False</td>\n",
       "      <td>False</td>\n",
       "      <td>False</td>\n",
       "      <td>False</td>\n",
       "      <td>False</td>\n",
       "      <td>False</td>\n",
       "      <td>False</td>\n",
       "      <td>False</td>\n",
       "      <td>False</td>\n",
       "      <td>False</td>\n",
       "    </tr>\n",
       "    <tr>\n",
       "      <th>4745</th>\n",
       "      <td>False</td>\n",
       "      <td>False</td>\n",
       "      <td>False</td>\n",
       "      <td>False</td>\n",
       "      <td>False</td>\n",
       "      <td>False</td>\n",
       "      <td>False</td>\n",
       "      <td>False</td>\n",
       "      <td>False</td>\n",
       "      <td>False</td>\n",
       "      <td>False</td>\n",
       "      <td>False</td>\n",
       "    </tr>\n",
       "  </tbody>\n",
       "</table>\n",
       "<p>4746 rows × 12 columns</p>\n",
       "</div>"
      ],
      "text/plain": [
       "      Posted On    BHK   Rent   Size  Floor  Area Type  Area Locality   City  \\\n",
       "0         False  False  False  False  False      False          False  False   \n",
       "1         False  False  False  False  False      False          False  False   \n",
       "2         False  False  False  False  False      False          False  False   \n",
       "3         False  False  False  False  False      False          False  False   \n",
       "4         False  False  False  False  False      False          False  False   \n",
       "...         ...    ...    ...    ...    ...        ...            ...    ...   \n",
       "4741      False  False  False  False  False      False          False  False   \n",
       "4742      False  False  False  False  False      False          False  False   \n",
       "4743      False  False  False  False  False      False          False  False   \n",
       "4744      False  False  False  False  False      False          False  False   \n",
       "4745      False  False  False  False  False      False          False  False   \n",
       "\n",
       "      Furnishing Status  Tenant Preferred  Bathroom  Point of Contact  \n",
       "0                 False             False     False             False  \n",
       "1                 False             False     False             False  \n",
       "2                 False             False     False             False  \n",
       "3                 False             False     False             False  \n",
       "4                 False             False     False             False  \n",
       "...                 ...               ...       ...               ...  \n",
       "4741              False             False     False             False  \n",
       "4742              False             False     False             False  \n",
       "4743              False             False     False             False  \n",
       "4744              False             False     False             False  \n",
       "4745              False             False     False             False  \n",
       "\n",
       "[4746 rows x 12 columns]"
      ]
     },
     "execution_count": 3,
     "metadata": {},
     "output_type": "execute_result"
    }
   ],
   "source": [
    "#Finding null values if any\n",
    "df.isnull()"
   ]
  },
  {
   "cell_type": "code",
   "execution_count": 4,
   "id": "5f472336-0fd5-4559-87e2-80fa725a7b76",
   "metadata": {},
   "outputs": [
    {
     "name": "stdout",
     "output_type": "stream",
     "text": [
      "<class 'pandas.core.frame.DataFrame'>\n",
      "RangeIndex: 4746 entries, 0 to 4745\n",
      "Data columns (total 12 columns):\n",
      " #   Column             Non-Null Count  Dtype \n",
      "---  ------             --------------  ----- \n",
      " 0   Posted On          4746 non-null   object\n",
      " 1   BHK                4746 non-null   int64 \n",
      " 2   Rent               4746 non-null   int64 \n",
      " 3   Size               4746 non-null   int64 \n",
      " 4   Floor              4746 non-null   object\n",
      " 5   Area Type          4746 non-null   object\n",
      " 6   Area Locality      4746 non-null   object\n",
      " 7   City               4746 non-null   object\n",
      " 8   Furnishing Status  4746 non-null   object\n",
      " 9   Tenant Preferred   4746 non-null   object\n",
      " 10  Bathroom           4746 non-null   int64 \n",
      " 11  Point of Contact   4746 non-null   object\n",
      "dtypes: int64(4), object(8)\n",
      "memory usage: 445.1+ KB\n"
     ]
    }
   ],
   "source": [
    "#Knowing the attributes\n",
    "df.info()"
   ]
  },
  {
   "cell_type": "code",
   "execution_count": 5,
   "id": "eb831188-bc90-4a61-8dfe-16c873e78def",
   "metadata": {},
   "outputs": [
    {
     "data": {
      "text/html": [
       "<div>\n",
       "<style scoped>\n",
       "    .dataframe tbody tr th:only-of-type {\n",
       "        vertical-align: middle;\n",
       "    }\n",
       "\n",
       "    .dataframe tbody tr th {\n",
       "        vertical-align: top;\n",
       "    }\n",
       "\n",
       "    .dataframe thead th {\n",
       "        text-align: right;\n",
       "    }\n",
       "</style>\n",
       "<table border=\"1\" class=\"dataframe\">\n",
       "  <thead>\n",
       "    <tr style=\"text-align: right;\">\n",
       "      <th></th>\n",
       "      <th>Posted On</th>\n",
       "      <th>BHK</th>\n",
       "      <th>Rent</th>\n",
       "      <th>Size</th>\n",
       "      <th>Floor</th>\n",
       "      <th>Area Type</th>\n",
       "      <th>Area Locality</th>\n",
       "      <th>City</th>\n",
       "      <th>Furnishing Status</th>\n",
       "      <th>Tenant Preferred</th>\n",
       "      <th>Bathroom</th>\n",
       "      <th>Point of Contact</th>\n",
       "    </tr>\n",
       "  </thead>\n",
       "  <tbody>\n",
       "    <tr>\n",
       "      <th>0</th>\n",
       "      <td>2022-05-18</td>\n",
       "      <td>2</td>\n",
       "      <td>10000</td>\n",
       "      <td>1100</td>\n",
       "      <td>Ground out of 2</td>\n",
       "      <td>Super Area</td>\n",
       "      <td>Bandel</td>\n",
       "      <td>Kolkata</td>\n",
       "      <td>Unfurnished</td>\n",
       "      <td>Bachelors/Family</td>\n",
       "      <td>2</td>\n",
       "      <td>Contact Owner</td>\n",
       "    </tr>\n",
       "    <tr>\n",
       "      <th>1</th>\n",
       "      <td>2022-05-13</td>\n",
       "      <td>2</td>\n",
       "      <td>20000</td>\n",
       "      <td>800</td>\n",
       "      <td>1 out of 3</td>\n",
       "      <td>Super Area</td>\n",
       "      <td>Phool Bagan, Kankurgachi</td>\n",
       "      <td>Kolkata</td>\n",
       "      <td>Semi-Furnished</td>\n",
       "      <td>Bachelors/Family</td>\n",
       "      <td>1</td>\n",
       "      <td>Contact Owner</td>\n",
       "    </tr>\n",
       "    <tr>\n",
       "      <th>2</th>\n",
       "      <td>2022-05-16</td>\n",
       "      <td>2</td>\n",
       "      <td>17000</td>\n",
       "      <td>1000</td>\n",
       "      <td>1 out of 3</td>\n",
       "      <td>Super Area</td>\n",
       "      <td>Salt Lake City Sector 2</td>\n",
       "      <td>Kolkata</td>\n",
       "      <td>Semi-Furnished</td>\n",
       "      <td>Bachelors/Family</td>\n",
       "      <td>1</td>\n",
       "      <td>Contact Owner</td>\n",
       "    </tr>\n",
       "    <tr>\n",
       "      <th>3</th>\n",
       "      <td>2022-07-04</td>\n",
       "      <td>2</td>\n",
       "      <td>10000</td>\n",
       "      <td>800</td>\n",
       "      <td>1 out of 2</td>\n",
       "      <td>Super Area</td>\n",
       "      <td>Dumdum Park</td>\n",
       "      <td>Kolkata</td>\n",
       "      <td>Unfurnished</td>\n",
       "      <td>Bachelors/Family</td>\n",
       "      <td>1</td>\n",
       "      <td>Contact Owner</td>\n",
       "    </tr>\n",
       "    <tr>\n",
       "      <th>4</th>\n",
       "      <td>2022-05-09</td>\n",
       "      <td>2</td>\n",
       "      <td>7500</td>\n",
       "      <td>850</td>\n",
       "      <td>1 out of 2</td>\n",
       "      <td>Carpet Area</td>\n",
       "      <td>South Dum Dum</td>\n",
       "      <td>Kolkata</td>\n",
       "      <td>Unfurnished</td>\n",
       "      <td>Bachelors</td>\n",
       "      <td>1</td>\n",
       "      <td>Contact Owner</td>\n",
       "    </tr>\n",
       "  </tbody>\n",
       "</table>\n",
       "</div>"
      ],
      "text/plain": [
       "    Posted On  BHK   Rent  Size            Floor    Area Type  \\\n",
       "0  2022-05-18    2  10000  1100  Ground out of 2   Super Area   \n",
       "1  2022-05-13    2  20000   800       1 out of 3   Super Area   \n",
       "2  2022-05-16    2  17000  1000       1 out of 3   Super Area   \n",
       "3  2022-07-04    2  10000   800       1 out of 2   Super Area   \n",
       "4  2022-05-09    2   7500   850       1 out of 2  Carpet Area   \n",
       "\n",
       "              Area Locality     City Furnishing Status  Tenant Preferred  \\\n",
       "0                    Bandel  Kolkata       Unfurnished  Bachelors/Family   \n",
       "1  Phool Bagan, Kankurgachi  Kolkata    Semi-Furnished  Bachelors/Family   \n",
       "2   Salt Lake City Sector 2  Kolkata    Semi-Furnished  Bachelors/Family   \n",
       "3               Dumdum Park  Kolkata       Unfurnished  Bachelors/Family   \n",
       "4             South Dum Dum  Kolkata       Unfurnished         Bachelors   \n",
       "\n",
       "   Bathroom Point of Contact  \n",
       "0         2    Contact Owner  \n",
       "1         1    Contact Owner  \n",
       "2         1    Contact Owner  \n",
       "3         1    Contact Owner  \n",
       "4         1    Contact Owner  "
      ]
     },
     "execution_count": 5,
     "metadata": {},
     "output_type": "execute_result"
    }
   ],
   "source": [
    "#Printing the first five values of dataset\n",
    "df.head()"
   ]
  },
  {
   "cell_type": "code",
   "execution_count": 6,
   "id": "a71d2042-270b-4e15-8126-f3cd8135d095",
   "metadata": {},
   "outputs": [
    {
     "data": {
      "text/html": [
       "<div>\n",
       "<style scoped>\n",
       "    .dataframe tbody tr th:only-of-type {\n",
       "        vertical-align: middle;\n",
       "    }\n",
       "\n",
       "    .dataframe tbody tr th {\n",
       "        vertical-align: top;\n",
       "    }\n",
       "\n",
       "    .dataframe thead th {\n",
       "        text-align: right;\n",
       "    }\n",
       "</style>\n",
       "<table border=\"1\" class=\"dataframe\">\n",
       "  <thead>\n",
       "    <tr style=\"text-align: right;\">\n",
       "      <th></th>\n",
       "      <th>Posted On</th>\n",
       "      <th>BHK</th>\n",
       "      <th>Rent</th>\n",
       "      <th>Size</th>\n",
       "      <th>Floor</th>\n",
       "      <th>Area Type</th>\n",
       "      <th>Area Locality</th>\n",
       "      <th>City</th>\n",
       "      <th>Furnishing Status</th>\n",
       "      <th>Tenant Preferred</th>\n",
       "      <th>Bathroom</th>\n",
       "      <th>Point of Contact</th>\n",
       "    </tr>\n",
       "  </thead>\n",
       "  <tbody>\n",
       "    <tr>\n",
       "      <th>3394</th>\n",
       "      <td>2022-07-04</td>\n",
       "      <td>1</td>\n",
       "      <td>5700</td>\n",
       "      <td>450</td>\n",
       "      <td>Ground out of 1</td>\n",
       "      <td>Carpet Area</td>\n",
       "      <td>Anakaputhur</td>\n",
       "      <td>Chennai</td>\n",
       "      <td>Semi-Furnished</td>\n",
       "      <td>Family</td>\n",
       "      <td>1</td>\n",
       "      <td>Contact Owner</td>\n",
       "    </tr>\n",
       "  </tbody>\n",
       "</table>\n",
       "</div>"
      ],
      "text/plain": [
       "       Posted On  BHK  Rent  Size            Floor    Area Type Area Locality  \\\n",
       "3394  2022-07-04    1  5700   450  Ground out of 1  Carpet Area   Anakaputhur   \n",
       "\n",
       "         City Furnishing Status Tenant Preferred  Bathroom Point of Contact  \n",
       "3394  Chennai    Semi-Furnished           Family         1    Contact Owner  "
      ]
     },
     "execution_count": 6,
     "metadata": {},
     "output_type": "execute_result"
    }
   ],
   "source": [
    "#Printing the any random value in dataset\n",
    "df.sample()"
   ]
  },
  {
   "cell_type": "code",
   "execution_count": 7,
   "id": "5c2c3abd-5255-45aa-b215-37da7671b963",
   "metadata": {},
   "outputs": [
    {
     "data": {
      "text/html": [
       "<div>\n",
       "<style scoped>\n",
       "    .dataframe tbody tr th:only-of-type {\n",
       "        vertical-align: middle;\n",
       "    }\n",
       "\n",
       "    .dataframe tbody tr th {\n",
       "        vertical-align: top;\n",
       "    }\n",
       "\n",
       "    .dataframe thead th {\n",
       "        text-align: right;\n",
       "    }\n",
       "</style>\n",
       "<table border=\"1\" class=\"dataframe\">\n",
       "  <thead>\n",
       "    <tr style=\"text-align: right;\">\n",
       "      <th></th>\n",
       "      <th>Posted On</th>\n",
       "      <th>BHK</th>\n",
       "      <th>Rent</th>\n",
       "      <th>Size</th>\n",
       "      <th>Floor</th>\n",
       "      <th>Area Type</th>\n",
       "      <th>Area Locality</th>\n",
       "      <th>City</th>\n",
       "      <th>Furnishing Status</th>\n",
       "      <th>Tenant Preferred</th>\n",
       "      <th>Bathroom</th>\n",
       "      <th>Point of Contact</th>\n",
       "    </tr>\n",
       "  </thead>\n",
       "  <tbody>\n",
       "    <tr>\n",
       "      <th>4741</th>\n",
       "      <td>2022-05-18</td>\n",
       "      <td>2</td>\n",
       "      <td>15000</td>\n",
       "      <td>1000</td>\n",
       "      <td>3 out of 5</td>\n",
       "      <td>Carpet Area</td>\n",
       "      <td>Bandam Kommu</td>\n",
       "      <td>Hyderabad</td>\n",
       "      <td>Semi-Furnished</td>\n",
       "      <td>Bachelors/Family</td>\n",
       "      <td>2</td>\n",
       "      <td>Contact Owner</td>\n",
       "    </tr>\n",
       "    <tr>\n",
       "      <th>4742</th>\n",
       "      <td>2022-05-15</td>\n",
       "      <td>3</td>\n",
       "      <td>29000</td>\n",
       "      <td>2000</td>\n",
       "      <td>1 out of 4</td>\n",
       "      <td>Super Area</td>\n",
       "      <td>Manikonda, Hyderabad</td>\n",
       "      <td>Hyderabad</td>\n",
       "      <td>Semi-Furnished</td>\n",
       "      <td>Bachelors/Family</td>\n",
       "      <td>3</td>\n",
       "      <td>Contact Owner</td>\n",
       "    </tr>\n",
       "    <tr>\n",
       "      <th>4743</th>\n",
       "      <td>2022-07-10</td>\n",
       "      <td>3</td>\n",
       "      <td>35000</td>\n",
       "      <td>1750</td>\n",
       "      <td>3 out of 5</td>\n",
       "      <td>Carpet Area</td>\n",
       "      <td>Himayath Nagar, NH 7</td>\n",
       "      <td>Hyderabad</td>\n",
       "      <td>Semi-Furnished</td>\n",
       "      <td>Bachelors/Family</td>\n",
       "      <td>3</td>\n",
       "      <td>Contact Agent</td>\n",
       "    </tr>\n",
       "    <tr>\n",
       "      <th>4744</th>\n",
       "      <td>2022-07-06</td>\n",
       "      <td>3</td>\n",
       "      <td>45000</td>\n",
       "      <td>1500</td>\n",
       "      <td>23 out of 34</td>\n",
       "      <td>Carpet Area</td>\n",
       "      <td>Gachibowli</td>\n",
       "      <td>Hyderabad</td>\n",
       "      <td>Semi-Furnished</td>\n",
       "      <td>Family</td>\n",
       "      <td>2</td>\n",
       "      <td>Contact Agent</td>\n",
       "    </tr>\n",
       "    <tr>\n",
       "      <th>4745</th>\n",
       "      <td>2022-05-04</td>\n",
       "      <td>2</td>\n",
       "      <td>15000</td>\n",
       "      <td>1000</td>\n",
       "      <td>4 out of 5</td>\n",
       "      <td>Carpet Area</td>\n",
       "      <td>Suchitra Circle</td>\n",
       "      <td>Hyderabad</td>\n",
       "      <td>Unfurnished</td>\n",
       "      <td>Bachelors</td>\n",
       "      <td>2</td>\n",
       "      <td>Contact Owner</td>\n",
       "    </tr>\n",
       "  </tbody>\n",
       "</table>\n",
       "</div>"
      ],
      "text/plain": [
       "       Posted On  BHK   Rent  Size         Floor    Area Type  \\\n",
       "4741  2022-05-18    2  15000  1000    3 out of 5  Carpet Area   \n",
       "4742  2022-05-15    3  29000  2000    1 out of 4   Super Area   \n",
       "4743  2022-07-10    3  35000  1750    3 out of 5  Carpet Area   \n",
       "4744  2022-07-06    3  45000  1500  23 out of 34  Carpet Area   \n",
       "4745  2022-05-04    2  15000  1000    4 out of 5  Carpet Area   \n",
       "\n",
       "             Area Locality       City Furnishing Status  Tenant Preferred  \\\n",
       "4741          Bandam Kommu  Hyderabad    Semi-Furnished  Bachelors/Family   \n",
       "4742  Manikonda, Hyderabad  Hyderabad    Semi-Furnished  Bachelors/Family   \n",
       "4743  Himayath Nagar, NH 7  Hyderabad    Semi-Furnished  Bachelors/Family   \n",
       "4744            Gachibowli  Hyderabad    Semi-Furnished            Family   \n",
       "4745       Suchitra Circle  Hyderabad       Unfurnished         Bachelors   \n",
       "\n",
       "      Bathroom Point of Contact  \n",
       "4741         2    Contact Owner  \n",
       "4742         3    Contact Owner  \n",
       "4743         3    Contact Agent  \n",
       "4744         2    Contact Agent  \n",
       "4745         2    Contact Owner  "
      ]
     },
     "execution_count": 7,
     "metadata": {},
     "output_type": "execute_result"
    }
   ],
   "source": [
    "#Printing the last five value in dataset\n",
    "df.tail()"
   ]
  },
  {
   "cell_type": "code",
   "execution_count": 8,
   "id": "0b31b1b2-7bde-455b-b335-7a1c755568b3",
   "metadata": {},
   "outputs": [
    {
     "data": {
      "text/plain": [
       "Posted On              81\n",
       "BHK                     6\n",
       "Rent                  243\n",
       "Size                  615\n",
       "Floor                 480\n",
       "Area Type               3\n",
       "Area Locality        2235\n",
       "City                    6\n",
       "Furnishing Status       3\n",
       "Tenant Preferred        3\n",
       "Bathroom                8\n",
       "Point of Contact        3\n",
       "dtype: int64"
      ]
     },
     "execution_count": 8,
     "metadata": {},
     "output_type": "execute_result"
    }
   ],
   "source": [
    "#Knowing the unique values in each Attribute\n",
    "df.nunique()"
   ]
  },
  {
   "cell_type": "code",
   "execution_count": 9,
   "id": "e545e78a-d599-46af-b1aa-73018065c593",
   "metadata": {},
   "outputs": [
    {
     "data": {
      "text/plain": [
       "array(['Kolkata', 'Mumbai', 'Bangalore', 'Delhi', 'Chennai', 'Hyderabad'],\n",
       "      dtype=object)"
      ]
     },
     "execution_count": 9,
     "metadata": {},
     "output_type": "execute_result"
    }
   ],
   "source": [
    "#Printing the unique values in City\n",
    "df['City'].unique()"
   ]
  },
  {
   "cell_type": "code",
   "execution_count": 10,
   "id": "66320e47-9f21-4b4c-8a4f-7429c9c284e9",
   "metadata": {},
   "outputs": [
    {
     "data": {
      "text/plain": [
       "array([  10000,   20000,   17000,    7500,    7000,    5000,   26000,\n",
       "         25000,    6500,    5500,    8500,   40000,    6000,   11000,\n",
       "          7900,    9000,    4000,    8000,    5300,   12500,   15000,\n",
       "         22000,   21000,    7200,   12000,    4600,   30000,    3500,\n",
       "         16000,   14500,    8200,    6700,   18000,   35000,  180000,\n",
       "         14000,    3900,    6300,   13000,    6800,    4700,    4500,\n",
       "         17500,    2200,    9500,   16500,   10500,   50000,    5200,\n",
       "         24000,    3000,    3200,    1500,    3800,    6200,    9900,\n",
       "         36125,   23000,    5146,   22500,   34000,    1800,    3700,\n",
       "          3300,   60000,   65000,   45000,   70000,   75000,  160000,\n",
       "        300000,  130000,   33000,   32000,   49000,   28000,   33500,\n",
       "         85000,  270000,  400000,  150000,  100000,   19411,  190000,\n",
       "         68000,  110000,   44000,   43000,   57000,   27000,   55000,\n",
       "         95000,   80000,   89000,   38000,  350000,  170000,  210000,\n",
       "         47000,  120000,   62000,   42000,   41000,   84500,  220000,\n",
       "        310000,   53000,  250000,   13500,   25500,   45002,   48000,\n",
       "        140000,  230000,  600000,   46000,   55100,  320000,   92500,\n",
       "         29999,  330000,   36000,   53500,   61000,  200000,   19000,\n",
       "         18500,   19500,   90000,   93000,   69999, 1000000,   33003,\n",
       "        450000,  280000,   56000,   83000,   39000,   15500,   51000,\n",
       "        260000,   43500,   77500,   59000,   72000,   52000,   51500,\n",
       "         98000,   23500, 1200000,   84000,  500000,    9400,   94000,\n",
       "         58000,   54500,   67000,  380000,   29500,   37000,   35500,\n",
       "         90100,   77000,  290000,  240000,   26500,   54000,   76000,\n",
       "         79500,   63000,   28500,  360000,   66000,  650000,  850000,\n",
       "         34999,   49500,   46700,   88000,   78000,   74999,   69000,\n",
       "         29000,   31000,  700000,  680000,   61500,   11400,   11500,\n",
       "         32900,    6900,   27500,    9750, 3500000,    8900,   21500,\n",
       "          9300,   26969,   42500,    4300,    4800,   17681,   13900,\n",
       "          7700,    4750,   17600,    9250,   14900,   20500,    2000,\n",
       "         17401,   44300,  530000,   20200,   31500,   22999,   12100,\n",
       "         24500,    7600,   11200,   34500,    5700,   23999,    5250,\n",
       "         47500,   18999,    4200,   15723,    6250,   37500,    6166,\n",
       "          9800,   19397,   27999,   10677,   32500,   23382,   19800,\n",
       "          1200,    5400,   12333,   21467,    5800], dtype=int64)"
      ]
     },
     "execution_count": 10,
     "metadata": {},
     "output_type": "execute_result"
    }
   ],
   "source": [
    "#Printing the unique values in Rent\n",
    "df['Rent'].unique()"
   ]
  },
  {
   "cell_type": "code",
   "execution_count": 11,
   "id": "bfdf7e88-fb2a-41e8-a838-43f73479294b",
   "metadata": {},
   "outputs": [
    {
     "data": {
      "text/plain": [
       "array([1100,  800, 1000,  850,  600,  700,  250, 1200,  400,  375,  900,\n",
       "       1286, 2000,  660,  650,  300, 1600,  355,  350,  550,  500,  630,\n",
       "        270, 1500, 1300, 1068,  150,  450,  720,  680,  950, 1800,  480,\n",
       "        435, 1450,  750,  220,   20,  200,  840,  740,  490,  751,  280,\n",
       "        120, 1220,  670,  190,  240, 2200,  685,   44, 1110,  392,  710,\n",
       "       1400,  160, 1250,  839,  230,  620, 1350,  723,  320, 2160, 1700,\n",
       "        130,  505, 4000, 1190, 1012,  812,  420, 1750,  830, 1050,  960,\n",
       "        756,  288,  986, 1330,  322, 3500,  957, 1430, 1320,  475,  780,\n",
       "        570,  460,  530,  558,  175,  425,  721, 1150, 2210,  675, 1880,\n",
       "        640, 1650,  518,  777, 2308,  890,  888,  275,  424, 2079,  586,\n",
       "        610,  488,  722,  470,  410,  540,  932,  560, 3000,  696, 2500,\n",
       "        715, 1337,  737,  760,  365, 2600, 1783,  565, 1514, 1080,  825,\n",
       "        360, 1545,  432,  695, 1095,  790,  661,  330,  925, 1105, 1460,\n",
       "        415,  585, 1755,  385,  628, 1064,  845, 1915,  807,  380,  428,\n",
       "       1550, 1454,  860,  433, 2700, 1225, 1224,  305,  690,  635, 1379,\n",
       "        390,  935,  535, 3700, 1208, 3200,  225,  463, 1900, 1325,  905,\n",
       "        455,  430,  795,  575,  656,  719, 3064, 3400,  980, 2800,  413,\n",
       "       1850, 1705, 1355,  340,  471, 1528, 1030,  985,  806,  583,  994,\n",
       "        520, 2750, 2424,  724, 1076, 2170,  485,  478,  704,  525,  755,\n",
       "        625,  370,  805,  742,  745, 1265,  325,  902, 1233, 2120, 1937,\n",
       "       5000,  596, 1950,  510, 1260,  770, 3900,  694, 3250, 1740,  472,\n",
       "        421,  515,  831,  753, 1197,  880, 1088, 2650,  975,  785, 1016,\n",
       "        444,  508,  623, 1358, 1255,  955,  870, 1691,  615,  663, 1432,\n",
       "        649,  882,  736, 1710,  555, 1065,  854,  906, 1130,  495,  407,\n",
       "       1092,  669,  725,  999, 1256,  889,  434, 1121,  937,  379,  920,\n",
       "        440,  582, 1617,  836, 2046,  730,  229,  910, 1648,  820,  771,\n",
       "       1526,  465, 1073,  310,  967, 1649, 1560, 4500, 1425, 1375, 1270,\n",
       "        265,  422,  895, 1663,  377, 2080,  965, 2100, 1380,  868,  970,\n",
       "        774, 1152,  641,  810,  875,  758, 2880, 1962,  590, 1120, 2729,\n",
       "       3354, 1040, 1403, 2608, 1045, 1021, 1280, 1680, 1155, 2900, 3150,\n",
       "        100, 1603, 1771,  773,  865, 1840, 1159,   50,  990, 1360, 1757,\n",
       "       1281, 1221,  416,  976, 1387, 1020, 1645, 3276, 1893, 1296, 4800,\n",
       "       1066, 2150, 2110, 1025, 1180,  580,  904, 1252, 2770,  144, 1005,\n",
       "       1274, 1480, 1115, 1060, 1278, 4105, 1055,  894, 2400, 2430, 1475,\n",
       "       4341,  846,  110, 5700, 1760, 3100,  775,  445, 2710, 1768,  532,\n",
       "       1465,  940, 1789, 1618, 1374, 1580, 4550, 1333, 1875, 1660, 1305,\n",
       "       1188, 2390, 1788, 1520, 1464,  180,  140,   75, 1670,   70,   60,\n",
       "        170,   48, 1901,  145,   25,  892,   80,   45, 1125,  713,   54,\n",
       "         63, 1440,   55,   68,   65, 2300,   84,   90,  512,  446,  125,\n",
       "        499,   30,  497,   95,  272, 2925,  106,   96,  545,  165, 1872,\n",
       "         40,   42, 2550, 3800, 1205,   77, 1027, 1428, 2117, 1462,  674,\n",
       "       1540,  930, 1210, 1234, 1162, 1261, 1145, 3600, 1158,  898,  717,\n",
       "       1070, 2036,  619,  115, 1725, 2064, 1557,  917,  579, 1920, 1002,\n",
       "        778, 1567, 1113, 1175, 1010,  618, 1651,  705,  901, 1340, 1246,\n",
       "       1099, 1530, 1780, 1402, 1484, 1140, 1525, 1132, 3300,  786, 1785,\n",
       "        803, 1975,  914, 1170, 1435, 1444, 1503,  966, 1062, 1015, 1570,\n",
       "       1157, 2792, 1153,  506,  749, 1107, 1235, 1415,  281, 6000,  926,\n",
       "       2280,  826,  502,  833,  809, 2240, 1424,  595, 1075, 2317, 1109,\n",
       "       1290,  939, 1610,  973, 1420,  843, 1144, 1903, 1383, 1912, 1146,\n",
       "        909,  886, 1625, 1535,  647, 1798, 2061,  919, 2395, 1815, 2290,\n",
       "       1473, 4050, 2520,  242, 1496,  878, 1956, 1955, 1090, 3133, 2050,\n",
       "       1160, 1417, 1565, 1675, 1135, 3698, 2405, 1248, 3115,  927,  562,\n",
       "       1720,  103, 8000, 1730,  133,  192, 1315, 1230, 4761, 1970, 1940,\n",
       "        167,  933, 1742, 1838, 1960, 1275, 1285, 2235, 1283, 3455, 3050,\n",
       "       7000, 1606, 2352, 2671, 1156,   67, 1492, 2990, 2780, 1685,  853,\n",
       "       2310, 1965, 1834,   10, 3789, 1422, 1124, 4200,  214,  855],\n",
       "      dtype=int64)"
      ]
     },
     "execution_count": 11,
     "metadata": {},
     "output_type": "execute_result"
    }
   ],
   "source": [
    "#Printing the unique values in Size\n",
    "df['Size'].unique()"
   ]
  },
  {
   "cell_type": "code",
   "execution_count": 12,
   "id": "b3f5aa75-3ede-474c-af56-f4cc40ca3ec1",
   "metadata": {},
   "outputs": [
    {
     "data": {
      "text/plain": [
       "array(['Unfurnished', 'Semi-Furnished', 'Furnished'], dtype=object)"
      ]
     },
     "execution_count": 12,
     "metadata": {},
     "output_type": "execute_result"
    }
   ],
   "source": [
    "#Printing the unique values in Furnishing Status\n",
    "df['Furnishing Status'].unique()"
   ]
  },
  {
   "cell_type": "code",
   "execution_count": 13,
   "id": "5456783f-006b-4201-bd2f-38f3b2513be8",
   "metadata": {},
   "outputs": [
    {
     "data": {
      "text/html": [
       "<div>\n",
       "<style scoped>\n",
       "    .dataframe tbody tr th:only-of-type {\n",
       "        vertical-align: middle;\n",
       "    }\n",
       "\n",
       "    .dataframe tbody tr th {\n",
       "        vertical-align: top;\n",
       "    }\n",
       "\n",
       "    .dataframe thead th {\n",
       "        text-align: right;\n",
       "    }\n",
       "</style>\n",
       "<table border=\"1\" class=\"dataframe\">\n",
       "  <thead>\n",
       "    <tr style=\"text-align: right;\">\n",
       "      <th></th>\n",
       "      <th>BHK</th>\n",
       "      <th>Rent</th>\n",
       "      <th>Size</th>\n",
       "      <th>Bathroom</th>\n",
       "    </tr>\n",
       "  </thead>\n",
       "  <tbody>\n",
       "    <tr>\n",
       "      <th>BHK</th>\n",
       "      <td>1.000000</td>\n",
       "      <td>0.369718</td>\n",
       "      <td>0.716145</td>\n",
       "      <td>0.794885</td>\n",
       "    </tr>\n",
       "    <tr>\n",
       "      <th>Rent</th>\n",
       "      <td>0.369718</td>\n",
       "      <td>1.000000</td>\n",
       "      <td>0.413551</td>\n",
       "      <td>0.441215</td>\n",
       "    </tr>\n",
       "    <tr>\n",
       "      <th>Size</th>\n",
       "      <td>0.716145</td>\n",
       "      <td>0.413551</td>\n",
       "      <td>1.000000</td>\n",
       "      <td>0.740703</td>\n",
       "    </tr>\n",
       "    <tr>\n",
       "      <th>Bathroom</th>\n",
       "      <td>0.794885</td>\n",
       "      <td>0.441215</td>\n",
       "      <td>0.740703</td>\n",
       "      <td>1.000000</td>\n",
       "    </tr>\n",
       "  </tbody>\n",
       "</table>\n",
       "</div>"
      ],
      "text/plain": [
       "               BHK      Rent      Size  Bathroom\n",
       "BHK       1.000000  0.369718  0.716145  0.794885\n",
       "Rent      0.369718  1.000000  0.413551  0.441215\n",
       "Size      0.716145  0.413551  1.000000  0.740703\n",
       "Bathroom  0.794885  0.441215  0.740703  1.000000"
      ]
     },
     "execution_count": 13,
     "metadata": {},
     "output_type": "execute_result"
    }
   ],
   "source": [
    "#correlation between variables\n",
    "df.corr()"
   ]
  },
  {
   "cell_type": "code",
   "execution_count": 14,
   "id": "1773d829-cd0c-4d1c-be3c-e22aee95c2c9",
   "metadata": {},
   "outputs": [
    {
     "data": {
      "text/plain": [
       "<AxesSubplot:>"
      ]
     },
     "execution_count": 14,
     "metadata": {},
     "output_type": "execute_result"
    },
    {
     "data": {
      "image/png": "[encoded data removed]",
      "text/plain": [
       "<Figure size 720x720 with 2 Axes>"
      ]
     },
     "metadata": {
      "needs_background": "light"
     },
     "output_type": "display_data"
    }
   ],
   "source": [
    "#Plotting the heatmap to understand the relation between variables\n",
    "plt.figure(figsize=(10,10))\n",
    "sns.heatmap(df.corr(), annot=True)"
   ]
  },
  {
   "cell_type": "code",
   "execution_count": 15,
   "id": "57ae668c-a1c0-449a-960a-8496acddc209",
   "metadata": {},
   "outputs": [
    {
     "data": {
      "text/plain": [
       "<seaborn.axisgrid.PairGrid at 0x1981d4ddaf0>"
      ]
     },
     "execution_count": 15,
     "metadata": {},
     "output_type": "execute_result"
    },
    {
     "data": {
      "image/png": "[encoded data removed]",
      "text/plain": [
       "<Figure size 720x720 with 20 Axes>"
      ]
     },
     "metadata": {
      "needs_background": "light"
     },
     "output_type": "display_data"
    }
   ],
   "source": [
    "#Pairplot between variables\n",
    "sns.pairplot(df)"
   ]
  },
  {
   "cell_type": "code",
   "execution_count": 16,
   "id": "3b89d88a-fbef-49c4-82f6-22423ab5d320",
   "metadata": {},
   "outputs": [
    {
     "data": {
      "text/plain": [
       "Text(0.5, 1.0, 'Rent in different Cities')"
      ]
     },
     "execution_count": 16,
     "metadata": {},
     "output_type": "execute_result"
    },
    {
     "data": {
      "image/png": "[encoded data removed]",
      "text/plain": [
       "<Figure size 432x288 with 1 Axes>"
      ]
     },
     "metadata": {
      "needs_background": "light"
     },
     "output_type": "display_data"
    }
   ],
   "source": [
    "#Visualization between Rent and City\n",
    "sns.barplot(x='Rent',y='City',data=df)\n",
    "plt.title('Rent in different Cities')"
   ]
  },
  {
   "cell_type": "code",
   "execution_count": 17,
   "id": "5f7322e7-2507-4ce7-87e6-b08a046d6271",
   "metadata": {},
   "outputs": [
    {
     "data": {
      "text/plain": [
       "Text(0.5, 1.0, 'Rent against BHK')"
      ]
     },
     "execution_count": 17,
     "metadata": {},
     "output_type": "execute_result"
    },
    {
     "data": {
      "image/png": "[encoded data removed]",
      "text/plain": [
       "<Figure size 432x288 with 1 Axes>"
      ]
     },
     "metadata": {
      "needs_background": "light"
     },
     "output_type": "display_data"
    }
   ],
   "source": [
    "#Visualization between Rent and BHK\n",
    "sns.barplot(x='BHK',y='Rent',data=df)\n",
    "plt.title('Rent against BHK')"
   ]
  },
  {
   "cell_type": "code",
   "execution_count": 18,
   "id": "26587a29-bec1-4ac3-955b-4474c96011c6",
   "metadata": {},
   "outputs": [
    {
     "data": {
      "text/plain": [
       "Text(0.5, 1.0, 'Tenant Preferred and Point of Contact')"
      ]
     },
     "execution_count": 18,
     "metadata": {},
     "output_type": "execute_result"
    },
    {
     "data": {
      "image/png": "[encoded data removed]",
      "text/plain": [
       "<Figure size 432x288 with 1 Axes>"
      ]
     },
     "metadata": {
      "needs_background": "light"
     },
     "output_type": "display_data"
    }
   ],
   "source": [
    "#Visualization between Point of Contact and Tenant Preferred\n",
    "sns.scatterplot(x='Point of Contact',y='Tenant Preferred',data=df)\n",
    "plt.title('Tenant Preferred and Point of Contact')"
   ]
  },
  {
   "cell_type": "code",
   "execution_count": 19,
   "id": "c86db065-19d8-4227-98fa-d24af243d0d2",
   "metadata": {},
   "outputs": [
    {
     "data": {
      "text/plain": [
       "<AxesSubplot:xlabel='Rent', ylabel='Tenant Preferred'>"
      ]
     },
     "execution_count": 19,
     "metadata": {},
     "output_type": "execute_result"
    },
    {
     "data": {
      "image/png": "[encoded data removed]",
      "text/plain": [
       "<Figure size 432x288 with 1 Axes>"
      ]
     },
     "metadata": {
      "needs_background": "light"
     },
     "output_type": "display_data"
    }
   ],
   "source": [
    "#Visualization between Rent and Teanant Preferred\n",
    "sns.barplot(x='Rent',y='Tenant Preferred',data=df)"
   ]
  },
  {
   "cell_type": "code",
   "execution_count": 20,
   "id": "fc71079b-aa07-40d6-9c11-5cba96089729",
   "metadata": {},
   "outputs": [
    {
     "name": "stdout",
     "output_type": "stream",
     "text": [
      "AxesSubplot(0.125,0.125;0.775x0.755)\n"
     ]
    },
    {
     "data": {
      "image/png": "[encoded data removed]",
      "text/plain": [
       "<Figure size 432x288 with 1 Axes>"
      ]
     },
     "metadata": {
      "needs_background": "light"
     },
     "output_type": "display_data"
    }
   ],
   "source": [
    "#Visualization between Furnishing Status and BHK\n",
    "print(df.plot(x='Furnishing Status',y='BHK',kind='scatter'))"
   ]
  },
  {
   "cell_type": "code",
   "execution_count": 21,
   "id": "08856b64-a9bb-4a0d-a9a5-ad807dd23e18",
   "metadata": {},
   "outputs": [
    {
     "data": {
      "text/plain": [
       "<AxesSubplot:xlabel='Rent', ylabel='Area Type'>"
      ]
     },
     "execution_count": 21,
     "metadata": {},
     "output_type": "execute_result"
    },
    {
     "data": {
      "image/png": "[encoded data removed]",
      "text/plain": [
       "<Figure size 432x288 with 1 Axes>"
      ]
     },
     "metadata": {
      "needs_background": "light"
     },
     "output_type": "display_data"
    }
   ],
   "source": [
    "sns.barplot(x='Rent',y='Area Type',data=df)"
   ]
  },
  {
   "cell_type": "code",
   "execution_count": 22,
   "id": "0febd4f1-a2b8-43b9-93a2-947122f91df3",
   "metadata": {},
   "outputs": [
    {
     "data": {
      "text/plain": [
       "<seaborn.axisgrid.FacetGrid at 0x198202ac550>"
      ]
     },
     "execution_count": 22,
     "metadata": {},
     "output_type": "execute_result"
    },
    {
     "data": {
      "image/png": "[encoded data removed]",
      "text/plain": [
       "<Figure size 360x360 with 1 Axes>"
      ]
     },
     "metadata": {
      "needs_background": "light"
     },
     "output_type": "display_data"
    }
   ],
   "source": [
    "sns.relplot(x='Size',y='City',data=df)"
   ]
  },
  {
   "cell_type": "code",
   "execution_count": 23,
   "id": "5c9380e2-7cd8-4cee-8363-a9a96696870a",
   "metadata": {},
   "outputs": [
    {
     "data": {
      "text/plain": [
       "Text(0.5, 1.0, 'Sizes in different Cities')"
      ]
     },
     "execution_count": 23,
     "metadata": {},
     "output_type": "execute_result"
    },
    {
     "data": {
      "image/png": "[encoded data removed]",
      "text/plain": [
       "<Figure size 432x288 with 1 Axes>"
      ]
     },
     "metadata": {
      "needs_background": "light"
     },
     "output_type": "display_data"
    }
   ],
   "source": [
    "font1 = {'color':'blue','size':20}\n",
    "sns.barplot(x='Size',y='City',data=df)\n",
    "plt.title(\"Sizes in different Cities\", fontdict = font1)"
   ]
  },
  {
   "cell_type": "code",
   "execution_count": 24,
   "id": "9c09a062-7ead-405f-8269-f6ba4751d326",
   "metadata": {},
   "outputs": [
    {
     "data": {
      "text/plain": [
       "<AxesSubplot:xlabel='BHK', ylabel='Size'>"
      ]
     },
     "execution_count": 24,
     "metadata": {},
     "output_type": "execute_result"
    },
    {
     "data": {
      "image/png": "[encoded data removed]",
      "text/plain": [
       "<Figure size 432x288 with 1 Axes>"
      ]
     },
     "metadata": {
      "needs_background": "light"
     },
     "output_type": "display_data"
    }
   ],
   "source": [
    "sns.barplot(x='BHK',y='Size',data=df)"
   ]
  },
  {
   "cell_type": "code",
   "execution_count": 25,
   "id": "6b9328dc-e94c-4784-aa19-fc215fdf8d11",
   "metadata": {},
   "outputs": [
    {
     "data": {
      "text/plain": [
       "<AxesSubplot:xlabel='BHK', ylabel='Bathroom'>"
      ]
     },
     "execution_count": 25,
     "metadata": {},
     "output_type": "execute_result"
    },
    {
     "data": {
      "image/png": "[encoded data removed]",
      "text/plain": [
       "<Figure size 432x288 with 1 Axes>"
      ]
     },
     "metadata": {
      "needs_background": "light"
     },
     "output_type": "display_data"
    }
   ],
   "source": [
    "sns.barplot(x='BHK',y='Bathroom',data=df)"
   ]
  },
  {
   "cell_type": "code",
   "execution_count": 26,
   "id": "a32e7389-80e9-4562-a5a3-0fff0c9f1779",
   "metadata": {},
   "outputs": [
    {
     "data": {
      "text/plain": [
       "<AxesSubplot:xlabel='Furnishing Status', ylabel='Rent'>"
      ]
     },
     "execution_count": 26,
     "metadata": {},
     "output_type": "execute_result"
    },
    {
     "data": {
      "image/png": "[encoded data removed]",
      "text/plain": [
       "<Figure size 432x288 with 1 Axes>"
      ]
     },
     "metadata": {
      "needs_background": "light"
     },
     "output_type": "display_data"
    }
   ],
   "source": [
    "sns.barplot(x='Furnishing Status',y='Rent',data=df)"
   ]
  },
  {
   "cell_type": "code",
   "execution_count": 27,
   "id": "28e7b459-35f5-4849-b4ad-9cd4e48204ea",
   "metadata": {},
   "outputs": [],
   "source": [
    "#Importing the LabelEncoder for converting categorical values to numerical values\n",
    "from sklearn.preprocessing import LabelEncoder"
   ]
  },
  {
   "cell_type": "code",
   "execution_count": 28,
   "id": "a72bb3e7-fcfa-4ac1-a340-f7a79a6e4895",
   "metadata": {},
   "outputs": [],
   "source": [
    "#Storing the LabelEncoder in le\n",
    "le=LabelEncoder()"
   ]
  },
  {
   "cell_type": "code",
   "execution_count": 29,
   "id": "7df02d56-af9c-424d-a79f-6520b8f4ae14",
   "metadata": {},
   "outputs": [],
   "source": [
    "df.City=le.fit_transform(df.City)\n",
    "df.Floor=le.fit_transform(df.Floor)\n",
    "df['Area Type']=le.fit_transform(df.iloc[:,5].values)\n",
    "df['Area Locality']=le.fit_transform(df.iloc[:,6].values)\n",
    "df['Furnishing Status']=le.fit_transform(df.iloc[:,8].values)\n",
    "df['Tenant Preferred']=le.fit_transform(df.iloc[:,9].values)\n",
    "df['Point of Contact']=le.fit_transform(df.iloc[:,11].values)"
   ]
  },
  {
   "cell_type": "code",
   "execution_count": 30,
   "id": "60555776-5c4d-4987-b7dc-b6b78235def8",
   "metadata": {},
   "outputs": [
    {
     "data": {
      "text/html": [
       "<div>\n",
       "<style scoped>\n",
       "    .dataframe tbody tr th:only-of-type {\n",
       "        vertical-align: middle;\n",
       "    }\n",
       "\n",
       "    .dataframe tbody tr th {\n",
       "        vertical-align: top;\n",
       "    }\n",
       "\n",
       "    .dataframe thead th {\n",
       "        text-align: right;\n",
       "    }\n",
       "</style>\n",
       "<table border=\"1\" class=\"dataframe\">\n",
       "  <thead>\n",
       "    <tr style=\"text-align: right;\">\n",
       "      <th></th>\n",
       "      <th>Posted On</th>\n",
       "      <th>BHK</th>\n",
       "      <th>Rent</th>\n",
       "      <th>Size</th>\n",
       "      <th>Floor</th>\n",
       "      <th>Area Type</th>\n",
       "      <th>Area Locality</th>\n",
       "      <th>City</th>\n",
       "      <th>Furnishing Status</th>\n",
       "      <th>Tenant Preferred</th>\n",
       "      <th>Bathroom</th>\n",
       "      <th>Point of Contact</th>\n",
       "    </tr>\n",
       "  </thead>\n",
       "  <tbody>\n",
       "    <tr>\n",
       "      <th>0</th>\n",
       "      <td>2022-05-18</td>\n",
       "      <td>2</td>\n",
       "      <td>10000</td>\n",
       "      <td>1100</td>\n",
       "      <td>455</td>\n",
       "      <td>2</td>\n",
       "      <td>221</td>\n",
       "      <td>4</td>\n",
       "      <td>2</td>\n",
       "      <td>1</td>\n",
       "      <td>2</td>\n",
       "      <td>2</td>\n",
       "    </tr>\n",
       "    <tr>\n",
       "      <th>1</th>\n",
       "      <td>2022-05-13</td>\n",
       "      <td>2</td>\n",
       "      <td>20000</td>\n",
       "      <td>800</td>\n",
       "      <td>14</td>\n",
       "      <td>2</td>\n",
       "      <td>1527</td>\n",
       "      <td>4</td>\n",
       "      <td>1</td>\n",
       "      <td>1</td>\n",
       "      <td>1</td>\n",
       "      <td>2</td>\n",
       "    </tr>\n",
       "    <tr>\n",
       "      <th>2</th>\n",
       "      <td>2022-05-16</td>\n",
       "      <td>2</td>\n",
       "      <td>17000</td>\n",
       "      <td>1000</td>\n",
       "      <td>14</td>\n",
       "      <td>2</td>\n",
       "      <td>1760</td>\n",
       "      <td>4</td>\n",
       "      <td>1</td>\n",
       "      <td>1</td>\n",
       "      <td>1</td>\n",
       "      <td>2</td>\n",
       "    </tr>\n",
       "    <tr>\n",
       "      <th>3</th>\n",
       "      <td>2022-07-04</td>\n",
       "      <td>2</td>\n",
       "      <td>10000</td>\n",
       "      <td>800</td>\n",
       "      <td>10</td>\n",
       "      <td>2</td>\n",
       "      <td>526</td>\n",
       "      <td>4</td>\n",
       "      <td>2</td>\n",
       "      <td>1</td>\n",
       "      <td>1</td>\n",
       "      <td>2</td>\n",
       "    </tr>\n",
       "    <tr>\n",
       "      <th>4</th>\n",
       "      <td>2022-05-09</td>\n",
       "      <td>2</td>\n",
       "      <td>7500</td>\n",
       "      <td>850</td>\n",
       "      <td>10</td>\n",
       "      <td>1</td>\n",
       "      <td>1890</td>\n",
       "      <td>4</td>\n",
       "      <td>2</td>\n",
       "      <td>0</td>\n",
       "      <td>1</td>\n",
       "      <td>2</td>\n",
       "    </tr>\n",
       "  </tbody>\n",
       "</table>\n",
       "</div>"
      ],
      "text/plain": [
       "    Posted On  BHK   Rent  Size  Floor  Area Type  Area Locality  City  \\\n",
       "0  2022-05-18    2  10000  1100    455          2            221     4   \n",
       "1  2022-05-13    2  20000   800     14          2           1527     4   \n",
       "2  2022-05-16    2  17000  1000     14          2           1760     4   \n",
       "3  2022-07-04    2  10000   800     10          2            526     4   \n",
       "4  2022-05-09    2   7500   850     10          1           1890     4   \n",
       "\n",
       "   Furnishing Status  Tenant Preferred  Bathroom  Point of Contact  \n",
       "0                  2                 1         2                 2  \n",
       "1                  1                 1         1                 2  \n",
       "2                  1                 1         1                 2  \n",
       "3                  2                 1         1                 2  \n",
       "4                  2                 0         1                 2  "
      ]
     },
     "execution_count": 30,
     "metadata": {},
     "output_type": "execute_result"
    }
   ],
   "source": [
    "df.head()"
   ]
  },
  {
   "cell_type": "code",
   "execution_count": 31,
   "id": "b33d76d4-30c4-405f-8f64-039caded495e",
   "metadata": {},
   "outputs": [
    {
     "data": {
      "text/html": [
       "<div>\n",
       "<style scoped>\n",
       "    .dataframe tbody tr th:only-of-type {\n",
       "        vertical-align: middle;\n",
       "    }\n",
       "\n",
       "    .dataframe tbody tr th {\n",
       "        vertical-align: top;\n",
       "    }\n",
       "\n",
       "    .dataframe thead th {\n",
       "        text-align: right;\n",
       "    }\n",
       "</style>\n",
       "<table border=\"1\" class=\"dataframe\">\n",
       "  <thead>\n",
       "    <tr style=\"text-align: right;\">\n",
       "      <th></th>\n",
       "      <th>Posted On</th>\n",
       "      <th>BHK</th>\n",
       "      <th>Rent</th>\n",
       "      <th>Size</th>\n",
       "      <th>Floor</th>\n",
       "      <th>Area Type</th>\n",
       "      <th>Area Locality</th>\n",
       "      <th>City</th>\n",
       "      <th>Furnishing Status</th>\n",
       "      <th>Tenant Preferred</th>\n",
       "      <th>Bathroom</th>\n",
       "      <th>Point of Contact</th>\n",
       "    </tr>\n",
       "  </thead>\n",
       "  <tbody>\n",
       "    <tr>\n",
       "      <th>4741</th>\n",
       "      <td>2022-05-18</td>\n",
       "      <td>2</td>\n",
       "      <td>15000</td>\n",
       "      <td>1000</td>\n",
       "      <td>271</td>\n",
       "      <td>1</td>\n",
       "      <td>219</td>\n",
       "      <td>3</td>\n",
       "      <td>1</td>\n",
       "      <td>1</td>\n",
       "      <td>2</td>\n",
       "      <td>2</td>\n",
       "    </tr>\n",
       "    <tr>\n",
       "      <th>4742</th>\n",
       "      <td>2022-05-15</td>\n",
       "      <td>3</td>\n",
       "      <td>29000</td>\n",
       "      <td>2000</td>\n",
       "      <td>16</td>\n",
       "      <td>2</td>\n",
       "      <td>1214</td>\n",
       "      <td>3</td>\n",
       "      <td>1</td>\n",
       "      <td>1</td>\n",
       "      <td>3</td>\n",
       "      <td>2</td>\n",
       "    </tr>\n",
       "    <tr>\n",
       "      <th>4743</th>\n",
       "      <td>2022-07-10</td>\n",
       "      <td>3</td>\n",
       "      <td>35000</td>\n",
       "      <td>1750</td>\n",
       "      <td>271</td>\n",
       "      <td>1</td>\n",
       "      <td>724</td>\n",
       "      <td>3</td>\n",
       "      <td>1</td>\n",
       "      <td>1</td>\n",
       "      <td>3</td>\n",
       "      <td>0</td>\n",
       "    </tr>\n",
       "    <tr>\n",
       "      <th>4744</th>\n",
       "      <td>2022-07-06</td>\n",
       "      <td>3</td>\n",
       "      <td>45000</td>\n",
       "      <td>1500</td>\n",
       "      <td>226</td>\n",
       "      <td>1</td>\n",
       "      <td>590</td>\n",
       "      <td>3</td>\n",
       "      <td>1</td>\n",
       "      <td>2</td>\n",
       "      <td>2</td>\n",
       "      <td>0</td>\n",
       "    </tr>\n",
       "    <tr>\n",
       "      <th>4745</th>\n",
       "      <td>2022-05-04</td>\n",
       "      <td>2</td>\n",
       "      <td>15000</td>\n",
       "      <td>1000</td>\n",
       "      <td>313</td>\n",
       "      <td>1</td>\n",
       "      <td>1915</td>\n",
       "      <td>3</td>\n",
       "      <td>2</td>\n",
       "      <td>0</td>\n",
       "      <td>2</td>\n",
       "      <td>2</td>\n",
       "    </tr>\n",
       "  </tbody>\n",
       "</table>\n",
       "</div>"
      ],
      "text/plain": [
       "       Posted On  BHK   Rent  Size  Floor  Area Type  Area Locality  City  \\\n",
       "4741  2022-05-18    2  15000  1000    271          1            219     3   \n",
       "4742  2022-05-15    3  29000  2000     16          2           1214     3   \n",
       "4743  2022-07-10    3  35000  1750    271          1            724     3   \n",
       "4744  2022-07-06    3  45000  1500    226          1            590     3   \n",
       "4745  2022-05-04    2  15000  1000    313          1           1915     3   \n",
       "\n",
       "      Furnishing Status  Tenant Preferred  Bathroom  Point of Contact  \n",
       "4741                  1                 1         2                 2  \n",
       "4742                  1                 1         3                 2  \n",
       "4743                  1                 1         3                 0  \n",
       "4744                  1                 2         2                 0  \n",
       "4745                  2                 0         2                 2  "
      ]
     },
     "execution_count": 31,
     "metadata": {},
     "output_type": "execute_result"
    }
   ],
   "source": [
    "df.tail()"
   ]
  },
  {
   "cell_type": "code",
   "execution_count": 32,
   "id": "bd04c65c-328c-418a-8f1b-fd3260df5869",
   "metadata": {},
   "outputs": [
    {
     "data": {
      "text/html": [
       "<div>\n",
       "<style scoped>\n",
       "    .dataframe tbody tr th:only-of-type {\n",
       "        vertical-align: middle;\n",
       "    }\n",
       "\n",
       "    .dataframe tbody tr th {\n",
       "        vertical-align: top;\n",
       "    }\n",
       "\n",
       "    .dataframe thead th {\n",
       "        text-align: right;\n",
       "    }\n",
       "</style>\n",
       "<table border=\"1\" class=\"dataframe\">\n",
       "  <thead>\n",
       "    <tr style=\"text-align: right;\">\n",
       "      <th></th>\n",
       "      <th>Posted On</th>\n",
       "      <th>BHK</th>\n",
       "      <th>Rent</th>\n",
       "      <th>Size</th>\n",
       "      <th>Floor</th>\n",
       "      <th>Area Type</th>\n",
       "      <th>Area Locality</th>\n",
       "      <th>City</th>\n",
       "      <th>Furnishing Status</th>\n",
       "      <th>Tenant Preferred</th>\n",
       "      <th>Bathroom</th>\n",
       "      <th>Point of Contact</th>\n",
       "    </tr>\n",
       "  </thead>\n",
       "  <tbody>\n",
       "    <tr>\n",
       "      <th>2522</th>\n",
       "      <td>2022-07-03</td>\n",
       "      <td>2</td>\n",
       "      <td>22000</td>\n",
       "      <td>800</td>\n",
       "      <td>267</td>\n",
       "      <td>2</td>\n",
       "      <td>394</td>\n",
       "      <td>2</td>\n",
       "      <td>0</td>\n",
       "      <td>1</td>\n",
       "      <td>2</td>\n",
       "      <td>2</td>\n",
       "    </tr>\n",
       "  </tbody>\n",
       "</table>\n",
       "</div>"
      ],
      "text/plain": [
       "       Posted On  BHK   Rent  Size  Floor  Area Type  Area Locality  City  \\\n",
       "2522  2022-07-03    2  22000   800    267          2            394     2   \n",
       "\n",
       "      Furnishing Status  Tenant Preferred  Bathroom  Point of Contact  \n",
       "2522                  0                 1         2                 2  "
      ]
     },
     "execution_count": 32,
     "metadata": {},
     "output_type": "execute_result"
    }
   ],
   "source": [
    "df.sample()"
   ]
  },
  {
   "cell_type": "code",
   "execution_count": 33,
   "id": "ed6e1786-86c8-478a-bc3d-5234bbc53efe",
   "metadata": {},
   "outputs": [],
   "source": [
    "#Importing the train test and split for dividing the dataset\n",
    "from sklearn.model_selection import train_test_split"
   ]
  },
  {
   "cell_type": "code",
   "execution_count": 34,
   "id": "2089db35-361f-4d76-9fd5-27b4a78de85c",
   "metadata": {},
   "outputs": [],
   "source": [
    "X=np.array(df[[\"BHK\",\"Size\",\"Floor\",\"Area Type\",\"City\",\"Furnishing Status\",\"Tenant Preferred\"]])\n",
    "y=df['Rent']"
   ]
  },
  {
   "cell_type": "code",
   "execution_count": 35,
   "id": "18e9ad32-9d78-405d-af56-9c3a750fff52",
   "metadata": {},
   "outputs": [
    {
     "name": "stdout",
     "output_type": "stream",
     "text": [
      "[[   2 1100  455 ...    4    2    1]\n",
      " [   2  800   14 ...    4    1    1]\n",
      " [   2 1000   14 ...    4    1    1]\n",
      " ...\n",
      " [   3 1750  271 ...    3    1    1]\n",
      " [   3 1500  226 ...    3    1    2]\n",
      " [   2 1000  313 ...    3    2    0]]\n"
     ]
    }
   ],
   "source": [
    "print(X)"
   ]
  },
  {
   "cell_type": "code",
   "execution_count": 36,
   "id": "ef310d2d-fb57-413f-b817-99799121f6f4",
   "metadata": {},
   "outputs": [
    {
     "name": "stdout",
     "output_type": "stream",
     "text": [
      "0       10000\n",
      "1       20000\n",
      "2       17000\n",
      "3       10000\n",
      "4        7500\n",
      "        ...  \n",
      "4741    15000\n",
      "4742    29000\n",
      "4743    35000\n",
      "4744    45000\n",
      "4745    15000\n",
      "Name: Rent, Length: 4746, dtype: int64\n"
     ]
    }
   ],
   "source": [
    "print(y)"
   ]
  },
  {
   "cell_type": "code",
   "execution_count": 37,
   "id": "4b4c1b41-ae0f-4163-bafd-328589e16eff",
   "metadata": {},
   "outputs": [],
   "source": [
    "X_train,X_test,y_train,y_test=train_test_split(X,y,test_size=0.2,random_state=42)"
   ]
  },
  {
   "cell_type": "code",
   "execution_count": 38,
   "id": "268e3885-952a-4796-8a9a-c24539b72338",
   "metadata": {},
   "outputs": [
    {
     "name": "stdout",
     "output_type": "stream",
     "text": [
      "(3796, 7)\n"
     ]
    }
   ],
   "source": [
    "print(X_train.shape)"
   ]
  },
  {
   "cell_type": "code",
   "execution_count": 39,
   "id": "b81d561c-5201-484b-abf4-1cdc87e39ed5",
   "metadata": {},
   "outputs": [
    {
     "name": "stdout",
     "output_type": "stream",
     "text": [
      "(3796,)\n"
     ]
    }
   ],
   "source": [
    "print(y_train.shape)"
   ]
  },
  {
   "cell_type": "code",
   "execution_count": 40,
   "id": "9a04544c-af6c-4af5-adfd-779cd4bc44ae",
   "metadata": {},
   "outputs": [
    {
     "name": "stdout",
     "output_type": "stream",
     "text": [
      "(950, 7)\n"
     ]
    }
   ],
   "source": [
    "print(X_test.shape)"
   ]
  },
  {
   "cell_type": "code",
   "execution_count": 41,
   "id": "9c50a1e6-cf11-49a2-b6ed-282faf1d1626",
   "metadata": {},
   "outputs": [
    {
     "name": "stdout",
     "output_type": "stream",
     "text": [
      "(950,)\n"
     ]
    }
   ],
   "source": [
    "print(y_test.shape)"
   ]
  },
  {
   "cell_type": "code",
   "execution_count": 42,
   "id": "0b417f44-39be-4e44-ac67-f4654ffc4bda",
   "metadata": {},
   "outputs": [
    {
     "name": "stdout",
     "output_type": "stream",
     "text": [
      "Requirement already satisfied: xgboost in c:\\users\\vismayaj\\anaconda3\\lib\\site-packages (1.6.2)\n",
      "Requirement already satisfied: numpy in c:\\users\\vismayaj\\anaconda3\\lib\\site-packages (from xgboost) (1.21.5)\n",
      "Requirement already satisfied: scipy in c:\\users\\vismayaj\\anaconda3\\lib\\site-packages (from xgboost) (1.7.3)\n",
      "Note: you may need to restart the kernel to use updated packages.\n"
     ]
    }
   ],
   "source": [
    "pip install xgboost"
   ]
  },
  {
   "cell_type": "code",
   "execution_count": 48,
   "id": "d0ea195d-b86a-4e03-8163-f9da62029584",
   "metadata": {},
   "outputs": [
    {
     "name": "stdout",
     "output_type": "stream",
     "text": [
      "0.6144969703781095\n"
     ]
    }
   ],
   "source": [
    "#Building the Model with XGBRegressor\n",
    "from xgboost import XGBRegressor\n",
    "model = XGBRegressor()\n",
    "model.fit(X_train,y_train)\n",
    "y_pred_xgb = model.predict(X_test)\n",
    "print(model.score(X_test, y_test))"
   ]
  },
  {
   "cell_type": "code",
   "execution_count": 44,
   "id": "b35e0bd9-7d62-4372-83f1-f7b9365eac2f",
   "metadata": {},
   "outputs": [
    {
     "data": {
      "text/plain": [
       "0.6008138950386794"
      ]
     },
     "execution_count": 44,
     "metadata": {},
     "output_type": "execute_result"
    }
   ],
   "source": [
    "#Building the Model with RandomForestRegressor\n",
    "#from sklearn.ensemble import RandomForestRegressor\n",
    "#model = RandomForestRegressor()\n",
    "#model.fit(X_train,y_train)\n",
    "#model.score(X_test, y_test)"
   ]
  },
  {
   "cell_type": "code",
   "execution_count": 47,
   "id": "b9ba07c3-873a-4198-846c-2f7d864f2357",
   "metadata": {},
   "outputs": [
    {
     "name": "stdout",
     "output_type": "stream",
     "text": [
      "r2_score 0.4251616690958824\n"
     ]
    }
   ],
   "source": [
    "#Building the Model with LinearRegression\n",
    "#from sklearn.linear_model import LinearRegression\n",
    "#lr  = LinearRegression()\n",
    "#lr.fit(X_train,y_train)\n",
    "#lr.score(X_test, y_test)\n",
    "#y_pred_lr = lr.predict(X_test)\n",
    "#print('r2_score', lr.score(X_test, y_test))"
   ]
  },
  {
   "cell_type": "code",
   "execution_count": 49,
   "id": "e2828b59-47ef-445d-905d-0d281865ff0f",
   "metadata": {},
   "outputs": [
    {
     "name": "stdout",
     "output_type": "stream",
     "text": [
      "Enter House Details to Predict Rent\n"
     ]
    },
    {
     "name": "stdin",
     "output_type": "stream",
     "text": [
      "Number of BHK:  2\n",
      "Size of the House:  1100\n",
      "Area Type :  2\n",
      "Enter the FLoor:  455\n",
      "Enter the city: 3\n",
      "Furnishing Status of the House :  1\n",
      "Tenant Type :  1\n"
     ]
    },
    {
     "name": "stdout",
     "output_type": "stream",
     "text": [
      "Predicted House Price =  [10425.571]\n"
     ]
    }
   ],
   "source": [
    "#Manually Predicting the House rent based on other features \n",
    "print(\"Enter House Details to Predict Rent\")\n",
    "bhk = int(input(\"Number of BHK: \"))\n",
    "size = int(input(\"Size of the House: \"))\n",
    "Area = int(input(\"Area Type : \"))\n",
    "Floor = int(input(\"Enter the FLoor: \"))\n",
    "city = int(input(\"Enter the city:\"))\n",
    "Status = int(input(\"Furnishing Status of the House : \"))\n",
    "Tenant= int(input(\"Tenant Type : \"))\n",
    "features = np.array([[bhk,size,Area,Floor,city,Status,Tenant]])\n",
    "print(\"Predicted House Price = \", model.predict(features))"
   ]
  },
  {
   "cell_type": "code",
   "execution_count": 58,
   "id": "1927c8ca-6f68-4fc9-91dd-b539e2644de5",
   "metadata": {},
   "outputs": [],
   "source": [
    "#Importing the joblib for saving the model\n",
    "import joblib"
   ]
  },
  {
   "cell_type": "code",
   "execution_count": 59,
   "id": "db262e4e-07c6-4d1f-9767-91254f15f59d",
   "metadata": {},
   "outputs": [
    {
     "data": {
      "text/plain": [
       "['model_HouseRent']"
      ]
     },
     "execution_count": 59,
     "metadata": {},
     "output_type": "execute_result"
    }
   ],
   "source": [
    "#Dumping the model and naming the model\n",
    "joblib.dump(model,'model_HouseRent')"
   ]
  },
  {
   "cell_type": "code",
   "execution_count": 60,
   "id": "19be4715-8d5d-45b8-9108-55b3263063c0",
   "metadata": {},
   "outputs": [],
   "source": [
    "#loading the model\n",
    "model=joblib.load('model_HouseRent')"
   ]
  },
  {
   "cell_type": "code",
   "execution_count": 61,
   "id": "14c585c7-0584-4c74-ae40-045b48abc86d",
   "metadata": {},
   "outputs": [
    {
     "name": "stdout",
     "output_type": "stream",
     "text": [
      "0.6144969703781095\n"
     ]
    }
   ],
   "source": [
    "#Again printing the score\n",
    "print(model.score(X_test, y_test))"
   ]
  },
  {
   "cell_type": "code",
   "execution_count": 62,
   "id": "3c232c29-a993-42e2-8003-57d6e5e912f2",
   "metadata": {},
   "outputs": [
    {
     "name": "stdout",
     "output_type": "stream",
     "text": [
      "Enter House Details to Predict Rent\n"
     ]
    },
    {
     "name": "stdin",
     "output_type": "stream",
     "text": [
      "Number of BHK:  2\n",
      "Size of the House:  1100\n",
      "Area Type :  2\n",
      "Enter the FLoor:  455\n",
      "Enter the city: 3\n",
      "Furnishing Status of the House :  1\n",
      "Tenant Type :  1\n"
     ]
    },
    {
     "name": "stdout",
     "output_type": "stream",
     "text": [
      "Predicted House Price =  [10425.571]\n"
     ]
    }
   ],
   "source": [
    "print(\"Enter House Details to Predict Rent\")\n",
    "bhk = int(input(\"Number of BHK: \"))\n",
    "size = int(input(\"Size of the House: \"))\n",
    "Area = int(input(\"Area Type : \"))\n",
    "Floor = int(input(\"Enter the FLoor: \"))\n",
    "city = int(input(\"Enter the city:\"))\n",
    "Status = int(input(\"Furnishing Status of the House : \"))\n",
    "Tenant= int(input(\"Tenant Type : \"))\n",
    "features = np.array([[bhk,size,Area,Floor,city,Status,Tenant]])\n",
    "print(\"Predicted House Price = \", model.predict(features))"
   ]
  },
  {
   "cell_type": "code",
   "execution_count": 50,
   "id": "d0fdd64f-14e4-4107-91ac-759316c8e62e",
   "metadata": {},
   "outputs": [
    {
     "name": "stdout",
     "output_type": "stream",
     "text": [
      "Requirement already satisfied: fastapi in c:\\users\\vismayaj\\anaconda3\\lib\\site-packages (0.83.0)\n",
      "Requirement already satisfied: pydantic!=1.7,!=1.7.1,!=1.7.2,!=1.7.3,!=1.8,!=1.8.1,<2.0.0,>=1.6.2 in c:\\users\\vismayaj\\anaconda3\\lib\\site-packages (from fastapi) (1.10.2)\n",
      "Requirement already satisfied: starlette==0.19.1 in c:\\users\\vismayaj\\anaconda3\\lib\\site-packages (from fastapi) (0.19.1)\n",
      "Requirement already satisfied: typing-extensions>=3.10.0 in c:\\users\\vismayaj\\anaconda3\\lib\\site-packages (from starlette==0.19.1->fastapi) (4.1.1)\n",
      "Requirement already satisfied: anyio<5,>=3.4.0 in c:\\users\\vismayaj\\anaconda3\\lib\\site-packages (from starlette==0.19.1->fastapi) (3.5.0)\n",
      "Requirement already satisfied: sniffio>=1.1 in c:\\users\\vismayaj\\anaconda3\\lib\\site-packages (from anyio<5,>=3.4.0->starlette==0.19.1->fastapi) (1.2.0)\n",
      "Requirement already satisfied: idna>=2.8 in c:\\users\\vismayaj\\anaconda3\\lib\\site-packages (from anyio<5,>=3.4.0->starlette==0.19.1->fastapi) (2.10)\n",
      "Note: you may need to restart the kernel to use updated packages.\n"
     ]
    }
   ],
   "source": [
    "#Installing the fastapi\n",
    "pip install fastapi"
   ]
  },
  {
   "cell_type": "code",
   "execution_count": 51,
   "id": "16453c3b-7ee8-406b-a0c9-0544002ad3fd",
   "metadata": {},
   "outputs": [
    {
     "name": "stdout",
     "output_type": "stream",
     "text": [
      "Requirement already satisfied: uvicorn in c:\\users\\vismayaj\\anaconda3\\lib\\site-packages (0.18.3)Note: you may need to restart the kernel to use updated packages.\n",
      "Requirement already satisfied: click>=7.0 in c:\\users\\vismayaj\\anaconda3\\lib\\site-packages (from uvicorn) (8.0.4)\n",
      "Requirement already satisfied: h11>=0.8 in c:\\users\\vismayaj\\anaconda3\\lib\\site-packages (from uvicorn) (0.9.0)\n",
      "Requirement already satisfied: colorama in c:\\users\\vismayaj\\anaconda3\\lib\\site-packages (from click>=7.0->uvicorn) (0.4.4)\n",
      "\n"
     ]
    }
   ],
   "source": [
    "#Install uvicorn\n",
    "pip install uvicorn"
   ]
  },
  {
   "cell_type": "code",
   "execution_count": 52,
   "id": "72e7faa2-3f97-494a-a561-6d70216384c1",
   "metadata": {},
   "outputs": [],
   "source": [
    "from fastapi import FastAPI"
   ]
  },
  {
   "cell_type": "code",
   "execution_count": 53,
   "id": "f65a217a-173b-4cd5-a5fe-e566ef734218",
   "metadata": {},
   "outputs": [
    {
     "name": "stdout",
     "output_type": "stream",
     "text": [
      "Requirement already satisfied: fastapi in c:\\users\\vismayaj\\anaconda3\\lib\\site-packages (0.83.0)\n",
      "Requirement already satisfied: nest-asyncio in c:\\users\\vismayaj\\anaconda3\\lib\\site-packages (1.5.5)\n",
      "Requirement already satisfied: pyngrok in c:\\users\\vismayaj\\anaconda3\\lib\\site-packages (5.1.0)\n",
      "Requirement already satisfied: uvicorn in c:\\users\\vismayaj\\anaconda3\\lib\\site-packages (0.18.3)\n",
      "Requirement already satisfied: pydantic!=1.7,!=1.7.1,!=1.7.2,!=1.7.3,!=1.8,!=1.8.1,<2.0.0,>=1.6.2 in c:\\users\\vismayaj\\anaconda3\\lib\\site-packages (from fastapi) (1.10.2)\n",
      "Requirement already satisfied: starlette==0.19.1 in c:\\users\\vismayaj\\anaconda3\\lib\\site-packages (from fastapi) (0.19.1)\n",
      "Requirement already satisfied: typing-extensions>=3.10.0 in c:\\users\\vismayaj\\anaconda3\\lib\\site-packages (from starlette==0.19.1->fastapi) (4.1.1)\n",
      "Requirement already satisfied: anyio<5,>=3.4.0 in c:\\users\\vismayaj\\anaconda3\\lib\\site-packages (from starlette==0.19.1->fastapi) (3.5.0)\n",
      "Requirement already satisfied: PyYAML in c:\\users\\vismayaj\\anaconda3\\lib\\site-packages (from pyngrok) (6.0)\n",
      "Requirement already satisfied: h11>=0.8 in c:\\users\\vismayaj\\anaconda3\\lib\\site-packages (from uvicorn) (0.9.0)\n",
      "Requirement already satisfied: click>=7.0 in c:\\users\\vismayaj\\anaconda3\\lib\\site-packages (from uvicorn) (8.0.4)\n",
      "Requirement already satisfied: idna>=2.8 in c:\\users\\vismayaj\\anaconda3\\lib\\site-packages (from anyio<5,>=3.4.0->starlette==0.19.1->fastapi) (2.10)\n",
      "Requirement already satisfied: sniffio>=1.1 in c:\\users\\vismayaj\\anaconda3\\lib\\site-packages (from anyio<5,>=3.4.0->starlette==0.19.1->fastapi) (1.2.0)\n",
      "Requirement already satisfied: colorama in c:\\users\\vismayaj\\anaconda3\\lib\\site-packages (from click>=7.0->uvicorn) (0.4.4)\n"
     ]
    }
   ],
   "source": [
    "!pip install fastapi nest-asyncio pyngrok uvicorn"
   ]
  },
  {
   "cell_type": "code",
   "execution_count": 56,
   "id": "f1e3d65c-21d5-477b-925a-ce44a481ef04",
   "metadata": {},
   "outputs": [],
   "source": [
    "from fastapi import FastAPI\n",
    "app = FastAPI()\n",
    "@app.get('/hi')\n",
    "def hello():\n",
    "    return 'Hi Vismaya Welcome to API'\n"
   ]
  },
  {
   "cell_type": "code",
   "execution_count": 57,
   "id": "ed468d9a-82b8-42fe-a75e-362ffed111f2",
   "metadata": {},
   "outputs": [
    {
     "name": "stderr",
     "output_type": "stream",
     "text": [
      "INFO:     Started server process [5108]\n",
      "INFO:     Waiting for application startup.\n",
      "INFO:     Application startup complete.\n",
      "INFO:     Uvicorn running on http://127.0.0.1:8001 (Press CTRL+C to quit)\n"
     ]
    },
    {
     "name": "stdout",
     "output_type": "stream",
     "text": [
      "INFO:     127.0.0.1:59761 - \"GET /hi HTTP/1.1\" 200 OK\n"
     ]
    },
    {
     "name": "stderr",
     "output_type": "stream",
     "text": [
      "INFO:     Shutting down\n",
      "INFO:     Waiting for application shutdown.\n",
      "INFO:     Application shutdown complete.\n",
      "INFO:     Finished server process [5108]\n"
     ]
    }
   ],
   "source": [
    "import uvicorn\n",
    "import nest_asyncio\n",
    "nest_asyncio.apply()\n",
    "uvicorn.run(app, port=8001)"
   ]
  },
  {
   "cell_type": "code",
   "execution_count": 63,
   "id": "30d2a90c-fc6a-4117-8525-9149185918a4",
   "metadata": {},
   "outputs": [
    {
     "name": "stdout",
     "output_type": "stream",
     "text": [
      "Requirement already satisfied: requests in c:\\users\\vismayaj\\anaconda3\\lib\\site-packages (2.27.1)\n",
      "Requirement already satisfied: idna<4,>=2.5 in c:\\users\\vismayaj\\anaconda3\\lib\\site-packages (from requests) (2.10)\n",
      "Requirement already satisfied: certifi>=2017.4.17 in c:\\users\\vismayaj\\anaconda3\\lib\\site-packages (from requests) (2021.10.8)\n",
      "Requirement already satisfied: charset-normalizer~=2.0.0 in c:\\users\\vismayaj\\anaconda3\\lib\\site-packages (from requests) (2.0.4)\n",
      "Requirement already satisfied: urllib3<1.27,>=1.21.1 in c:\\users\\vismayaj\\anaconda3\\lib\\site-packages (from requests) (1.26.9)\n",
      "Note: you may need to restart the kernel to use updated packages.\n"
     ]
    }
   ],
   "source": [
    "pip install requests"
   ]
  },
  {
   "cell_type": "code",
   "execution_count": 89,
   "id": "6b717059-848c-497b-902d-db5f8d0f2de7",
   "metadata": {},
   "outputs": [],
   "source": [
    "import requests"
   ]
  },
  {
   "cell_type": "code",
   "execution_count": 90,
   "id": "d2f36b45-beeb-463a-8e1a-f392e0ddddbc",
   "metadata": {},
   "outputs": [
    {
     "name": "stdout",
     "output_type": "stream",
     "text": [
      "Requirement already satisfied: pypi-json in c:\\users\\vismayaj\\anaconda3\\lib\\site-packages (0.3.0)\n",
      "Requirement already satisfied: apeye>=1.1.0 in c:\\users\\vismayaj\\anaconda3\\lib\\site-packages (from pypi-json) (1.2.0)\n",
      "Requirement already satisfied: packaging>=21.0 in c:\\users\\vismayaj\\anaconda3\\lib\\site-packages (from pypi-json) (21.3)\n",
      "Requirement already satisfied: requests>=2.26.0 in c:\\users\\vismayaj\\anaconda3\\lib\\site-packages (from pypi-json) (2.27.1)\n",
      "Requirement already satisfied: idna>=2.5 in c:\\users\\vismayaj\\anaconda3\\lib\\site-packages (from apeye>=1.1.0->pypi-json) (2.10)\n",
      "Requirement already satisfied: domdf-python-tools>=2.6.0 in c:\\users\\vismayaj\\anaconda3\\lib\\site-packages (from apeye>=1.1.0->pypi-json) (3.4.0)\n",
      "Requirement already satisfied: platformdirs>=2.3.0 in c:\\users\\vismayaj\\anaconda3\\lib\\site-packages (from apeye>=1.1.0->pypi-json) (2.5.2)\n",
      "Requirement already satisfied: natsort>=7.0.1 in c:\\users\\vismayaj\\anaconda3\\lib\\site-packages (from domdf-python-tools>=2.6.0->apeye>=1.1.0->pypi-json) (8.2.0)\n",
      "Requirement already satisfied: typing-extensions>=3.7.4.1 in c:\\users\\vismayaj\\anaconda3\\lib\\site-packages (from domdf-python-tools>=2.6.0->apeye>=1.1.0->pypi-json) (4.1.1)\n",
      "Requirement already satisfied: pyparsing!=3.0.5,>=2.0.2 in c:\\users\\vismayaj\\anaconda3\\lib\\site-packages (from packaging>=21.0->pypi-json) (3.0.4)\n",
      "Requirement already satisfied: charset-normalizer~=2.0.0 in c:\\users\\vismayaj\\anaconda3\\lib\\site-packages (from requests>=2.26.0->pypi-json) (2.0.4)\n",
      "Requirement already satisfied: urllib3<1.27,>=1.21.1 in c:\\users\\vismayaj\\anaconda3\\lib\\site-packages (from requests>=2.26.0->pypi-json) (1.26.9)\n",
      "Requirement already satisfied: certifi>=2017.4.17 in c:\\users\\vismayaj\\anaconda3\\lib\\site-packages (from requests>=2.26.0->pypi-json) (2021.10.8)\n",
      "Note: you may need to restart the kernel to use updated packages.\n"
     ]
    }
   ],
   "source": [
    "pip install pypi-json"
   ]
  },
  {
   "cell_type": "code",
   "execution_count": 91,
   "id": "104d45dd-cfb1-4ef7-ba72-ae4c27202394",
   "metadata": {},
   "outputs": [],
   "source": [
    "from pydantic import BaseModel"
   ]
  },
  {
   "cell_type": "code",
   "execution_count": 92,
   "id": "bd19fcca-8c68-4746-89ae-5205398b15e0",
   "metadata": {},
   "outputs": [],
   "source": [
    "import json"
   ]
  },
  {
   "cell_type": "code",
   "execution_count": 93,
   "id": "a1c2a7d9-a644-4c94-9470-a880eb40e87d",
   "metadata": {},
   "outputs": [
    {
     "name": "stdout",
     "output_type": "stream",
     "text": [
      "Requirement already satisfied: pydantic in c:\\users\\vismayaj\\anaconda3\\lib\\site-packages (1.10.2)\n",
      "Requirement already satisfied: typing-extensions>=4.1.0 in c:\\users\\vismayaj\\anaconda3\\lib\\site-packages (from pydantic) (4.1.1)\n",
      "Note: you may need to restart the kernel to use updated packages.\n"
     ]
    }
   ],
   "source": [
    "pip install pydantic"
   ]
  },
  {
   "cell_type": "code",
   "execution_count": 94,
   "id": "47aa5875-02ce-48bd-b6ca-8dc1af1352a8",
   "metadata": {},
   "outputs": [
    {
     "data": {
      "text/html": [
       "<div>\n",
       "<style scoped>\n",
       "    .dataframe tbody tr th:only-of-type {\n",
       "        vertical-align: middle;\n",
       "    }\n",
       "\n",
       "    .dataframe tbody tr th {\n",
       "        vertical-align: top;\n",
       "    }\n",
       "\n",
       "    .dataframe thead th {\n",
       "        text-align: right;\n",
       "    }\n",
       "</style>\n",
       "<table border=\"1\" class=\"dataframe\">\n",
       "  <thead>\n",
       "    <tr style=\"text-align: right;\">\n",
       "      <th></th>\n",
       "      <th>Posted On</th>\n",
       "      <th>BHK</th>\n",
       "      <th>Rent</th>\n",
       "      <th>Size</th>\n",
       "      <th>Floor</th>\n",
       "      <th>Area Type</th>\n",
       "      <th>Area Locality</th>\n",
       "      <th>City</th>\n",
       "      <th>Furnishing Status</th>\n",
       "      <th>Tenant Preferred</th>\n",
       "      <th>Bathroom</th>\n",
       "      <th>Point of Contact</th>\n",
       "    </tr>\n",
       "  </thead>\n",
       "  <tbody>\n",
       "    <tr>\n",
       "      <th>0</th>\n",
       "      <td>2022-05-18</td>\n",
       "      <td>2</td>\n",
       "      <td>10000</td>\n",
       "      <td>1100</td>\n",
       "      <td>455</td>\n",
       "      <td>2</td>\n",
       "      <td>221</td>\n",
       "      <td>4</td>\n",
       "      <td>2</td>\n",
       "      <td>1</td>\n",
       "      <td>2</td>\n",
       "      <td>2</td>\n",
       "    </tr>\n",
       "    <tr>\n",
       "      <th>1</th>\n",
       "      <td>2022-05-13</td>\n",
       "      <td>2</td>\n",
       "      <td>20000</td>\n",
       "      <td>800</td>\n",
       "      <td>14</td>\n",
       "      <td>2</td>\n",
       "      <td>1527</td>\n",
       "      <td>4</td>\n",
       "      <td>1</td>\n",
       "      <td>1</td>\n",
       "      <td>1</td>\n",
       "      <td>2</td>\n",
       "    </tr>\n",
       "    <tr>\n",
       "      <th>2</th>\n",
       "      <td>2022-05-16</td>\n",
       "      <td>2</td>\n",
       "      <td>17000</td>\n",
       "      <td>1000</td>\n",
       "      <td>14</td>\n",
       "      <td>2</td>\n",
       "      <td>1760</td>\n",
       "      <td>4</td>\n",
       "      <td>1</td>\n",
       "      <td>1</td>\n",
       "      <td>1</td>\n",
       "      <td>2</td>\n",
       "    </tr>\n",
       "    <tr>\n",
       "      <th>3</th>\n",
       "      <td>2022-07-04</td>\n",
       "      <td>2</td>\n",
       "      <td>10000</td>\n",
       "      <td>800</td>\n",
       "      <td>10</td>\n",
       "      <td>2</td>\n",
       "      <td>526</td>\n",
       "      <td>4</td>\n",
       "      <td>2</td>\n",
       "      <td>1</td>\n",
       "      <td>1</td>\n",
       "      <td>2</td>\n",
       "    </tr>\n",
       "    <tr>\n",
       "      <th>4</th>\n",
       "      <td>2022-05-09</td>\n",
       "      <td>2</td>\n",
       "      <td>7500</td>\n",
       "      <td>850</td>\n",
       "      <td>10</td>\n",
       "      <td>1</td>\n",
       "      <td>1890</td>\n",
       "      <td>4</td>\n",
       "      <td>2</td>\n",
       "      <td>0</td>\n",
       "      <td>1</td>\n",
       "      <td>2</td>\n",
       "    </tr>\n",
       "  </tbody>\n",
       "</table>\n",
       "</div>"
      ],
      "text/plain": [
       "    Posted On  BHK   Rent  Size  Floor  Area Type  Area Locality  City  \\\n",
       "0  2022-05-18    2  10000  1100    455          2            221     4   \n",
       "1  2022-05-13    2  20000   800     14          2           1527     4   \n",
       "2  2022-05-16    2  17000  1000     14          2           1760     4   \n",
       "3  2022-07-04    2  10000   800     10          2            526     4   \n",
       "4  2022-05-09    2   7500   850     10          1           1890     4   \n",
       "\n",
       "   Furnishing Status  Tenant Preferred  Bathroom  Point of Contact  \n",
       "0                  2                 1         2                 2  \n",
       "1                  1                 1         1                 2  \n",
       "2                  1                 1         1                 2  \n",
       "3                  2                 1         1                 2  \n",
       "4                  2                 0         1                 2  "
      ]
     },
     "execution_count": 94,
     "metadata": {},
     "output_type": "execute_result"
    }
   ],
   "source": [
    "df.head()"
   ]
  },
  {
   "cell_type": "code",
   "execution_count": 95,
   "id": "cc660be1-5e5b-434f-abd7-2dfbde1f059f",
   "metadata": {},
   "outputs": [],
   "source": [
    "app=FastAPI()"
   ]
  },
  {
   "cell_type": "code",
   "execution_count": 96,
   "id": "8340dfcb-eacd-4770-8448-725a1af56472",
   "metadata": {},
   "outputs": [],
   "source": [
    "class model_input(BaseModel):\n",
    "    BHK : int\n",
    "    Size : int\n",
    "    Floor : int\n",
    "    AreaType:int\n",
    "    City:int\n",
    "    FurnishingStatus:int\n",
    "    TenantPreferred:int\n",
    "    "
   ]
  },
  {
   "cell_type": "code",
   "execution_count": 97,
   "id": "1292f8b7-44fd-499d-bc30-2f485e6da87f",
   "metadata": {},
   "outputs": [],
   "source": [
    "house = joblib.load('model_HouseRent')\n",
    "\n",
    "@app.get('/rent')\n",
    "def house_rent(input_parameters : model_input):\n",
    "    \n",
    "    input_data = input_parameters.json()\n",
    "    input_dictionary = json.loads(input_data)\n",
    "    \n",
    "    bhk1 = input_dictionary['BHK']\n",
    "    size1 = input_dictionary['Size']\n",
    "    floor1 = input_dictionary['Floor']\n",
    "    area1=input_dictionary['Area Type']\n",
    "    city1=input_dictionary['City']\n",
    "    status1=input_dictionary['Furnishing Status']\n",
    "    tenant1=input_dictionary['Tenant Preferred']\n",
    "    \n",
    "    input_list = [bhk1,size1,floor1,area1,city1,status1,tenant1]\n",
    "    prediction = model_HouseRent.predict([input_list])\n",
    "    \n",
    "    if prediction[0] == 10000:\n",
    "        return 'the rent is 10000'\n",
    "    else:\n",
    "        return 'No'\n",
    "        "
   ]
  },
  {
   "cell_type": "code",
   "execution_count": 99,
   "id": "6c5fb9cb-806c-4e6b-8b89-563501b54819",
   "metadata": {},
   "outputs": [
    {
     "name": "stderr",
     "output_type": "stream",
     "text": [
      "INFO:     Started server process [5108]\n",
      "INFO:     Waiting for application startup.\n",
      "INFO:     Application startup complete.\n",
      "INFO:     Uvicorn running on http://127.0.0.1:8001 (Press CTRL+C to quit)\n"
     ]
    },
    {
     "name": "stdout",
     "output_type": "stream",
     "text": [
      "INFO:     127.0.0.1:56618 - \"GET /rent HTTP/1.1\" 422 Unprocessable Entity\n",
      "INFO:     127.0.0.1:56618 - \"GET /rent HTTP/1.1\" 422 Unprocessable Entity\n",
      "INFO:     127.0.0.1:56618 - \"GET /rent HTTP/1.1\" 422 Unprocessable Entity\n",
      "INFO:     127.0.0.1:56618 - \"GET /rent HTTP/1.1\" 422 Unprocessable Entity\n"
     ]
    },
    {
     "name": "stderr",
     "output_type": "stream",
     "text": [
      "INFO:     Shutting down\n",
      "INFO:     Waiting for application shutdown.\n",
      "INFO:     Application shutdown complete.\n",
      "INFO:     Finished server process [5108]\n"
     ]
    }
   ],
   "source": [
    "import uvicorn\n",
    "import nest_asyncio\n",
    "nest_asyncio.apply()\n",
    "uvicorn.run(app, port=8001)"
   ]
  },
  {
   "cell_type": "code",
   "execution_count": 100,
   "id": "d2db1d9f-07b9-4de7-af88-b159c15a8769",
   "metadata": {},
   "outputs": [],
   "source": [
    "url = 'http://127.0.0.1:8001/rent'\n",
    "\n",
    "input_data_for_model = {\n",
    "    'BHK' : 2,\n",
    "    'Size' : 1100,\n",
    "    'Floor' : 455,\n",
    "    'AreaType':2,\n",
    "    'City':3,\n",
    "    'FurnishingStatus':1,\n",
    "    'TenantPreferred':1\n",
    "}"
   ]
  },
  {
   "cell_type": "code",
   "execution_count": 101,
   "id": "5fc55ca2-369a-4859-afc3-85944db5c771",
   "metadata": {},
   "outputs": [
    {
     "name": "stderr",
     "output_type": "stream",
     "text": [
      "\n",
      "KeyboardInterrupt\n",
      "\n"
     ]
    }
   ],
   "source": [
    "input_json=json.dumps(input_data_for_model)\n",
    "response=requests.post(url,data=input_json)\n",
    "print(response.text)"
   ]
  },
  {
   "cell_type": "code",
   "execution_count": null,
   "id": "ca3ecfc2-511e-4376-8514-d3cc5b62f729",
   "metadata": {},
   "outputs": [],
   "source": []
  }
 ],
 "metadata": {
  "kernelspec": {
   "display_name": "Python 3 (ipykernel)",
   "language": "python",
   "name": "python3"
  },
  "language_info": {
   "codemirror_mode": {
    "name": "ipython",
    "version": 3
   },
   "file_extension": ".py",
   "mimetype": "text/x-python",
   "name": "python",
   "nbconvert_exporter": "python",
   "pygments_lexer": "ipython3",
   "version": "3.9.12"
  }
 },
 "nbformat": 4,
 "nbformat_minor": 5
}
